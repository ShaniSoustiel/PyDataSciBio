{
 "cells": [
  {
   "cell_type": "markdown",
   "metadata": {},
   "source": [
    "# Concurrency in Python"
   ]
  },
  {
   "cell_type": "markdown",
   "metadata": {},
   "source": [
    "In computer science, concurrency is about managing multiple tasks in a program, while parallelism is about actually executing them simultaneously.\n",
    "\n",
    "Here's a breakdown of concurrency:\n",
    "\n",
    "- Multiple tasks: A program is broken down into smaller tasks that can be run independently.\n",
    "- Out-of-order execution: The order in which these tasks are completed isn't necessarily important. As long as the final outcome is correct, it doesn't matter if task B finishes before task A.\n",
    "- Partial order: There might be some dependencies between tasks, requiring a certain level of order. Task B might need the results of task A before it can start.\n",
    "\n",
    "There are several benefits to using concurrency:\n",
    "\n",
    "- Improved responsiveness: If a program encounters a long-running task, concurrency allows it to continue working on other tasks while waiting. This makes the program feel more responsive to the user.\n",
    "- Efficient resource utilization: By keeping the processor busy with multiple tasks, concurrency can improve overall performance.\n",
    "\n",
    "However, concurrency also introduces challenges:\n",
    "\n",
    "- Coordination: When multiple tasks are accessing shared resources, there's a risk of conflicts. Careful coordination is needed to ensure data consistency and prevent issues like deadlocks.\n",
    "- Complexity: Reasoning about concurrent programs can be difficult. The out-of-order execution can lead to unexpected behavior if not managed properly.\n"
   ]
  },
  {
   "cell_type": "markdown",
   "metadata": {},
   "source": [
    "![thread vs process](https://i.ytimg.com/vi/4rLW7zg21gI/maxresdefault.jpg)"
   ]
  },
  {
   "cell_type": "code",
   "execution_count": null,
   "metadata": {},
   "outputs": [],
   "source": []
  }
 ],
 "metadata": {
  "language_info": {
   "name": "python"
  }
 },
 "nbformat": 4,
 "nbformat_minor": 2
}

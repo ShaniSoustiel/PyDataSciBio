{
 "cells": [
  {
   "cell_type": "code",
   "execution_count": 1,
   "id": "0ed35286",
   "metadata": {},
   "outputs": [
    {
     "name": "stderr",
     "output_type": "stream",
     "text": [
      "/Users/noa/opt/anaconda3/lib/python3.8/site-packages/scipy/__init__.py:146: UserWarning: A NumPy version >=1.16.5 and <1.23.0 is required for this version of SciPy (detected version 1.24.3\n",
      "  warnings.warn(f\"A NumPy version >={np_minversion} and <{np_maxversion}\"\n"
     ]
    }
   ],
   "source": [
    "%matplotlib inline\n",
    "import matplotlib.pyplot as plt\n",
    "import numpy as np\n",
    "import pandas as pd\n",
    "import seaborn as sns\n",
    "from sklearn.metrics import confusion_matrix\n",
    "sns.set(style='white',context='talk',palette='Set1')\n"
   ]
  },
  {
   "cell_type": "markdown",
   "id": "86e57ab0",
   "metadata": {},
   "source": [
    "### What is a classification task?\n",
    "\n",
    "In classification, we predict **categories** or **labels** instead of numerical values. \n",
    "Some examples: \n",
    "* Using machine learning to classify medical images (such as X-rays, MRIs, or histopathology slides) to identify whether a patient has a specific disease.\n",
    "* Predicting the function of proteins by classifying them into different functional categories based on their amino acid sequences. This is crucial for understanding cellular processes.\n",
    "\n",
    "<img src=\"https://get-elevate.com/wp-content/uploads/2022/05/Multi-Class-Classification-Chart.png\" width=\"300\"/>"
   ]
  },
  {
   "cell_type": "markdown",
   "id": "1aeaac29",
   "metadata": {},
   "source": [
    "As an example, we will use the `breast cancer` dataset, which was used in the previous lesson. This time, we will load the dataset using the `sklearn.datasets` module.\n",
    "\n"
   ]
  },
  {
   "cell_type": "code",
   "execution_count": 2,
   "id": "d9252f3b",
   "metadata": {},
   "outputs": [
    {
     "name": "stdout",
     "output_type": "stream",
     "text": [
      "Features: ['mean radius' 'mean texture' 'mean perimeter' 'mean area'\n",
      " 'mean smoothness' 'mean compactness' 'mean concavity'\n",
      " 'mean concave points' 'mean symmetry' 'mean fractal dimension'\n",
      " 'radius error' 'texture error' 'perimeter error' 'area error'\n",
      " 'smoothness error' 'compactness error' 'concavity error'\n",
      " 'concave points error' 'symmetry error' 'fractal dimension error'\n",
      " 'worst radius' 'worst texture' 'worst perimeter' 'worst area'\n",
      " 'worst smoothness' 'worst compactness' 'worst concavity'\n",
      " 'worst concave points' 'worst symmetry' 'worst fractal dimension']\n"
     ]
    }
   ],
   "source": [
    "import sklearn.datasets\n",
    "dataset = sklearn.datasets.load_breast_cancer()\n",
    "print(\"Features:\", dataset.feature_names)"
   ]
  },
  {
   "cell_type": "code",
   "execution_count": 54,
   "id": "5c94918f",
   "metadata": {},
   "outputs": [
    {
     "data": {
      "text/html": [
       "<div>\n",
       "<style scoped>\n",
       "    .dataframe tbody tr th:only-of-type {\n",
       "        vertical-align: middle;\n",
       "    }\n",
       "\n",
       "    .dataframe tbody tr th {\n",
       "        vertical-align: top;\n",
       "    }\n",
       "\n",
       "    .dataframe thead th {\n",
       "        text-align: right;\n",
       "    }\n",
       "</style>\n",
       "<table border=\"1\" class=\"dataframe\">\n",
       "  <thead>\n",
       "    <tr style=\"text-align: right;\">\n",
       "      <th></th>\n",
       "      <th>mean radius</th>\n",
       "      <th>mean texture</th>\n",
       "      <th>mean perimeter</th>\n",
       "      <th>mean area</th>\n",
       "      <th>mean smoothness</th>\n",
       "      <th>mean compactness</th>\n",
       "      <th>mean concavity</th>\n",
       "      <th>mean concave points</th>\n",
       "      <th>mean symmetry</th>\n",
       "      <th>mean fractal dimension</th>\n",
       "      <th>...</th>\n",
       "      <th>worst texture</th>\n",
       "      <th>worst perimeter</th>\n",
       "      <th>worst area</th>\n",
       "      <th>worst smoothness</th>\n",
       "      <th>worst compactness</th>\n",
       "      <th>worst concavity</th>\n",
       "      <th>worst concave points</th>\n",
       "      <th>worst symmetry</th>\n",
       "      <th>worst fractal dimension</th>\n",
       "      <th>target</th>\n",
       "    </tr>\n",
       "  </thead>\n",
       "  <tbody>\n",
       "    <tr>\n",
       "      <th>0</th>\n",
       "      <td>17.99</td>\n",
       "      <td>10.38</td>\n",
       "      <td>122.80</td>\n",
       "      <td>1001.0</td>\n",
       "      <td>0.11840</td>\n",
       "      <td>0.27760</td>\n",
       "      <td>0.3001</td>\n",
       "      <td>0.14710</td>\n",
       "      <td>0.2419</td>\n",
       "      <td>0.07871</td>\n",
       "      <td>...</td>\n",
       "      <td>17.33</td>\n",
       "      <td>184.60</td>\n",
       "      <td>2019.0</td>\n",
       "      <td>0.1622</td>\n",
       "      <td>0.6656</td>\n",
       "      <td>0.7119</td>\n",
       "      <td>0.2654</td>\n",
       "      <td>0.4601</td>\n",
       "      <td>0.11890</td>\n",
       "      <td>0</td>\n",
       "    </tr>\n",
       "    <tr>\n",
       "      <th>1</th>\n",
       "      <td>20.57</td>\n",
       "      <td>17.77</td>\n",
       "      <td>132.90</td>\n",
       "      <td>1326.0</td>\n",
       "      <td>0.08474</td>\n",
       "      <td>0.07864</td>\n",
       "      <td>0.0869</td>\n",
       "      <td>0.07017</td>\n",
       "      <td>0.1812</td>\n",
       "      <td>0.05667</td>\n",
       "      <td>...</td>\n",
       "      <td>23.41</td>\n",
       "      <td>158.80</td>\n",
       "      <td>1956.0</td>\n",
       "      <td>0.1238</td>\n",
       "      <td>0.1866</td>\n",
       "      <td>0.2416</td>\n",
       "      <td>0.1860</td>\n",
       "      <td>0.2750</td>\n",
       "      <td>0.08902</td>\n",
       "      <td>0</td>\n",
       "    </tr>\n",
       "    <tr>\n",
       "      <th>2</th>\n",
       "      <td>19.69</td>\n",
       "      <td>21.25</td>\n",
       "      <td>130.00</td>\n",
       "      <td>1203.0</td>\n",
       "      <td>0.10960</td>\n",
       "      <td>0.15990</td>\n",
       "      <td>0.1974</td>\n",
       "      <td>0.12790</td>\n",
       "      <td>0.2069</td>\n",
       "      <td>0.05999</td>\n",
       "      <td>...</td>\n",
       "      <td>25.53</td>\n",
       "      <td>152.50</td>\n",
       "      <td>1709.0</td>\n",
       "      <td>0.1444</td>\n",
       "      <td>0.4245</td>\n",
       "      <td>0.4504</td>\n",
       "      <td>0.2430</td>\n",
       "      <td>0.3613</td>\n",
       "      <td>0.08758</td>\n",
       "      <td>0</td>\n",
       "    </tr>\n",
       "    <tr>\n",
       "      <th>3</th>\n",
       "      <td>11.42</td>\n",
       "      <td>20.38</td>\n",
       "      <td>77.58</td>\n",
       "      <td>386.1</td>\n",
       "      <td>0.14250</td>\n",
       "      <td>0.28390</td>\n",
       "      <td>0.2414</td>\n",
       "      <td>0.10520</td>\n",
       "      <td>0.2597</td>\n",
       "      <td>0.09744</td>\n",
       "      <td>...</td>\n",
       "      <td>26.50</td>\n",
       "      <td>98.87</td>\n",
       "      <td>567.7</td>\n",
       "      <td>0.2098</td>\n",
       "      <td>0.8663</td>\n",
       "      <td>0.6869</td>\n",
       "      <td>0.2575</td>\n",
       "      <td>0.6638</td>\n",
       "      <td>0.17300</td>\n",
       "      <td>0</td>\n",
       "    </tr>\n",
       "    <tr>\n",
       "      <th>4</th>\n",
       "      <td>20.29</td>\n",
       "      <td>14.34</td>\n",
       "      <td>135.10</td>\n",
       "      <td>1297.0</td>\n",
       "      <td>0.10030</td>\n",
       "      <td>0.13280</td>\n",
       "      <td>0.1980</td>\n",
       "      <td>0.10430</td>\n",
       "      <td>0.1809</td>\n",
       "      <td>0.05883</td>\n",
       "      <td>...</td>\n",
       "      <td>16.67</td>\n",
       "      <td>152.20</td>\n",
       "      <td>1575.0</td>\n",
       "      <td>0.1374</td>\n",
       "      <td>0.2050</td>\n",
       "      <td>0.4000</td>\n",
       "      <td>0.1625</td>\n",
       "      <td>0.2364</td>\n",
       "      <td>0.07678</td>\n",
       "      <td>0</td>\n",
       "    </tr>\n",
       "  </tbody>\n",
       "</table>\n",
       "<p>5 rows × 31 columns</p>\n",
       "</div>"
      ],
      "text/plain": [
       "   mean radius  mean texture  mean perimeter  mean area  mean smoothness  \\\n",
       "0        17.99         10.38          122.80     1001.0          0.11840   \n",
       "1        20.57         17.77          132.90     1326.0          0.08474   \n",
       "2        19.69         21.25          130.00     1203.0          0.10960   \n",
       "3        11.42         20.38           77.58      386.1          0.14250   \n",
       "4        20.29         14.34          135.10     1297.0          0.10030   \n",
       "\n",
       "   mean compactness  mean concavity  mean concave points  mean symmetry  \\\n",
       "0           0.27760          0.3001              0.14710         0.2419   \n",
       "1           0.07864          0.0869              0.07017         0.1812   \n",
       "2           0.15990          0.1974              0.12790         0.2069   \n",
       "3           0.28390          0.2414              0.10520         0.2597   \n",
       "4           0.13280          0.1980              0.10430         0.1809   \n",
       "\n",
       "   mean fractal dimension  ...  worst texture  worst perimeter  worst area  \\\n",
       "0                 0.07871  ...          17.33           184.60      2019.0   \n",
       "1                 0.05667  ...          23.41           158.80      1956.0   \n",
       "2                 0.05999  ...          25.53           152.50      1709.0   \n",
       "3                 0.09744  ...          26.50            98.87       567.7   \n",
       "4                 0.05883  ...          16.67           152.20      1575.0   \n",
       "\n",
       "   worst smoothness  worst compactness  worst concavity  worst concave points  \\\n",
       "0            0.1622             0.6656           0.7119                0.2654   \n",
       "1            0.1238             0.1866           0.2416                0.1860   \n",
       "2            0.1444             0.4245           0.4504                0.2430   \n",
       "3            0.2098             0.8663           0.6869                0.2575   \n",
       "4            0.1374             0.2050           0.4000                0.1625   \n",
       "\n",
       "   worst symmetry  worst fractal dimension  target  \n",
       "0          0.4601                  0.11890       0  \n",
       "1          0.2750                  0.08902       0  \n",
       "2          0.3613                  0.08758       0  \n",
       "3          0.6638                  0.17300       0  \n",
       "4          0.2364                  0.07678       0  \n",
       "\n",
       "[5 rows x 31 columns]"
      ]
     },
     "execution_count": 54,
     "metadata": {},
     "output_type": "execute_result"
    }
   ],
   "source": [
    "df = pd.DataFrame(data=dataset.data, columns=dataset.feature_names)\n",
    "df['target'] = dataset.target.astype('str')\n",
    "df.head()"
   ]
  },
  {
   "cell_type": "code",
   "execution_count": 62,
   "id": "ac5fe09d",
   "metadata": {},
   "outputs": [
    {
     "data": {
      "text/plain": [
       "1    357\n",
       "0    212\n",
       "Name: target, dtype: int64"
      ]
     },
     "execution_count": 62,
     "metadata": {},
     "output_type": "execute_result"
    }
   ],
   "source": [
    "df['target'].value_counts()"
   ]
  },
  {
   "cell_type": "markdown",
   "id": "19e494c5",
   "metadata": {},
   "source": [
    "#### Excercicse 0 (warmup)"
   ]
  },
  {
   "cell_type": "code",
   "execution_count": 59,
   "id": "82139505",
   "metadata": {},
   "outputs": [
    {
     "data": {
      "image/png": "[encoded data removed]",
      "text/plain": [
       "<Figure size 600x900 with 3 Axes>"
      ]
     },
     "metadata": {},
     "output_type": "display_data"
    }
   ],
   "source": [
    "fig, axes = plt.subplots(3, 1, figsize=(6, 9))\n",
    "\n",
    "# Plot the boxplots on each subplot\n",
    "sns.boxplot(ax=axes[0], data=df, x=\"mean symmetry\", y=\"target\")\n",
    "sns.boxplot(ax=axes[1], data=df, x=\"mean area\", y=\"target\")  # Replace 'another_feature' with the actual feature\n",
    "sns.boxplot(ax=axes[2], data=df, x=\"mean radius\", y=\"target\")  # Replace 'yet_another_feature' with the actual feature\n",
    "\n",
    "# Adjust layout for better visualization\n",
    "plt.tight_layout()"
   ]
  },
  {
   "cell_type": "markdown",
   "id": "2eb83501",
   "metadata": {},
   "source": [
    "There are many features. To make the classification problem a bit more difficult, we will only use the features mean symmetry','mean area','mean radius.\n",
    "Then, we split our dataset to train and test, as we did in the previous class."
   ]
  },
  {
   "cell_type": "code",
   "execution_count": 41,
   "id": "2e22e4bd",
   "metadata": {},
   "outputs": [],
   "source": [
    "from sklearn.model_selection import train_test_split\n",
    "X = df[['mean symmetry','mean area','mean radius']]#df.drop(['target'],axis=1)\n",
    "y = df['target']\n",
    "X_train, X_test, y_train, y_test = train_test_split(X, y, test_size=0.33, random_state=0)"
   ]
  },
  {
   "cell_type": "markdown",
   "id": "0dcced36",
   "metadata": {},
   "source": [
    "#### K-nearest neighbors classifier (KNN)\n",
    "\n",
    "The simplest possible classifier is the nearest neighbor: given a new observation `X_test`, find in the training set (i.e. the data used to train the estimator) the observation with the *closest feature vector*, and use it's corresponding category as the prediction.\n",
    "We will use the `KNeighborsClassifier` function under `sklearn.neighbors`. "
   ]
  },
  {
   "cell_type": "code",
   "execution_count": 42,
   "id": "2c241bbd",
   "metadata": {},
   "outputs": [
    {
     "data": {
      "text/plain": [
       "KNeighborsClassifier()"
      ]
     },
     "execution_count": 42,
     "metadata": {},
     "output_type": "execute_result"
    }
   ],
   "source": [
    "import sklearn.neighbors as nb\n",
    "knn = nb.KNeighborsClassifier()\n",
    "knn.fit(X_train, y_train) "
   ]
  },
  {
   "cell_type": "markdown",
   "id": "2c9659a4",
   "metadata": {},
   "source": [
    "### How can we measure the performance of a classification model?\n",
    "\n",
    "<img src=\"https://cdn-images-1.medium.com/max/800/1*_JY_jxfndH8oBI3clamifA.png\" width=\"400\"/>\n",
    "\n",
    "\n",
    "* *True positives (TP)*: # of observations we correctly predicted as positive. (\"hit\")\n",
    "* *True negatives (TN)*: # of observations we correctly predicted as negative. (\"correct rejection\")\n",
    "* *False positives (FP)*: # of observations we falsely predicted as positive. (\"False alarm\")\n",
    "* *False negatives (FN)*: # of observations we falsely predicted as negative. (\"False miss, underestimation\")\n",
    "\n",
    "\n",
    "* **Accuracy**: the proportion of correcly classified observations: (TP+TN)/(TP+TN+FP+FN)\n",
    "* **True positive rate (TPR) /Sensitivity / Recall** : number of correct positives divided by total number of actual positives: TP/(TP+FN). Recall measures the ability of the classifier to find all positive samples. How can we obtain perfect recall?\n",
    "* **False positive rate (FPR)** Percentage of samples incorrectly classified as positives among the true negatives. FP/(FP+TN). FPR measures the probability of a 'false alarm'.\n",
    "* **Precision**: number of correct positives divided by all positive predictions: TP/(TP+FP). Precision measures the ability of the classifier not to label as positive a negative sample. How can we obtain perfect precision?\n",
    "* **F1 score** : 2\\*(Precision*Recall)/(Percision+Recall). It can be interpreted as the harmonic mean of precision and recall.\n",
    "\n"
   ]
  },
  {
   "cell_type": "markdown",
   "id": "4fb2c0f8",
   "metadata": {},
   "source": [
    "Let's predict the labels (the Iris species) for the test data and compare with the real labels:"
   ]
  },
  {
   "cell_type": "code",
   "execution_count": 43,
   "id": "aa132978",
   "metadata": {},
   "outputs": [
    {
     "name": "stdout",
     "output_type": "stream",
     "text": [
      "Accuracy: 0.904\n"
     ]
    }
   ],
   "source": [
    "y_pred_knn = knn.predict(X_test)\n",
    "print('Accuracy:', round((y_pred_knn == y_test).mean(),3))"
   ]
  },
  {
   "cell_type": "markdown",
   "id": "c163c2f9",
   "metadata": {},
   "source": [
    "The number of true negatives, true positives, false negatives and true positives:"
   ]
  },
  {
   "cell_type": "code",
   "execution_count": 44,
   "id": "edb7b7de",
   "metadata": {},
   "outputs": [],
   "source": [
    "tn, fp, fn, tp = confusion_matrix(y_test, y_pred_knn).ravel()"
   ]
  },
  {
   "cell_type": "markdown",
   "id": "29f459a2",
   "metadata": {},
   "source": [
    "##### Excercice 1:\n",
    "Using the tn,fp,fn,tp values, calculate the precision, recall and F1 score."
   ]
  },
  {
   "cell_type": "code",
   "execution_count": 45,
   "id": "5b5250ff",
   "metadata": {},
   "outputs": [
    {
     "name": "stdout",
     "output_type": "stream",
     "text": [
      "precision = 0.9, recall = 0.96, F1 score = 0.93 \n"
     ]
    }
   ],
   "source": [
    "precision_knn = tp/(tp+fp)\n",
    "recall_knn  = tp/(tp+fn)\n",
    "F1_score_knn  = (2*precision_knn*recall_knn )/(precision_knn+recall_knn)\n",
    "print(f\"precision = {round(precision_knn ,2)}, recall = {round(recall_knn ,2)}, F1 score = {round(F1_score_knn,2)} \")\n"
   ]
  },
  {
   "cell_type": "markdown",
   "id": "5b032b50",
   "metadata": {},
   "source": [
    "### Logistic regression"
   ]
  },
  {
   "cell_type": "markdown",
   "id": "cc29d489",
   "metadata": {},
   "source": [
    "Logistic regression is a statistical method commonly used for binary classification problems. Unlike linear regression, which predicts continuous values, logistic regression predicts the **probability of an instance belonging to a particular class**.\n",
    "\n",
    "In our case, logsitic regression would estimate $P(y='malignant'|features)$, which of course ranges between 0 and 1. Given the estimated probability for a patient, we can predict its status using a pre-defined threshold. For example, we can decide that patients for which $P(y='malignant'|features)>0.5$ are considered 'malignant'. Alternatively, we can be more conservative and use a lower threshold such as 0.1.\n",
    "\n",
    "Using linear regression, we would use the following formulation $P(y='malignant'|features) = \\Sigma\\beta_i x_i$.\n",
    "Using linear regression is not appropriate for this task, as linear regression's output is continious, $-inf$ to $+inf$, while our probability must fall between 0 and 1.\n",
    "\n",
    "Hence, to avoid this issue, me must apply a transformation to $\\Sigma\\beta_i x_i$ which will constrains its values within the range of 0 and 1. In logistic regression, we use the **logistic function**:\n",
    "### $f(x)=\\frac{e^x}{1 + e^x} $\n",
    "The logistic function always produce a S-shaped curve of this form:\n",
    "<img src=\"https://upload.wikimedia.org/wikipedia/commons/thumb/8/88/Logistic-curve.svg/480px-Logistic-curve.svg.png\" width=\"200\"/>\n",
    "Overall we obtain the following formulation:\n",
    "\n",
    "### $P(y='malignant' | features) = f(\\Sigma\\beta_i x_i) = \\frac{e^{\\Sigma\\beta_i x_i}}{1+e^{\\Sigma\\beta_i x_i}}$\n",
    "\n",
    "#### How are the regression coefficients estimates?\n",
    "\n",
    "In logistic regression, we determine the coefficients, denoted as $\\beta_0, \\ldots, \\beta_p$, through a method known as the maximum-likelihood approach. This statistical technique seeks to find the values for these coefficients that maximize the likelihood of the observed outcomes in our dataset. In simpler terms, we're essentially trying to discover the set of coefficients that make our model most probable given the training data.\n",
    "Let's apply logistic regression on our training data using the `LogisticRegression` function under `sklearn.linear_model`:"
   ]
  },
  {
   "cell_type": "code",
   "execution_count": 24,
   "id": "b0ed1bb6",
   "metadata": {},
   "outputs": [
    {
     "data": {
      "text/plain": [
       "LogisticRegression(max_iter=1000)"
      ]
     },
     "execution_count": 24,
     "metadata": {},
     "output_type": "execute_result"
    }
   ],
   "source": [
    "from sklearn.linear_model import LogisticRegression\n",
    "lg = LogisticRegression(max_iter=1000)\n",
    "lg.fit(X_train,y_train)"
   ]
  },
  {
   "cell_type": "markdown",
   "id": "40e0bae8",
   "metadata": {},
   "source": [
    "#### Interpretation of logistic regression coefficients"
   ]
  },
  {
   "cell_type": "code",
   "execution_count": 40,
   "id": "dbe43ef6",
   "metadata": {},
   "outputs": [
    {
     "name": "stdout",
     "output_type": "stream",
     "text": [
      "      coeff       features\n",
      "0  0.342448      intercept\n",
      "1 -1.115626  mean symmetry\n",
      "2 -0.022001      mean area\n",
      "3  1.004505    mean radius\n"
     ]
    }
   ],
   "source": [
    "intercept = lg.intercept_[0]\n",
    "coefficients = lg.coef_[0]\n",
    "feature_names = ['intercept'] + list(lg.feature_names_in_)\n",
    "\n",
    "coeff_table = pd.DataFrame({'coeff': [intercept] + list(coefficients), 'features': feature_names})\n",
    "print(coeff_table)"
   ]
  },
  {
   "cell_type": "markdown",
   "id": "8361d2e9",
   "metadata": {},
   "source": [
    "Let's estimate accuracy, precision and recall using the `sklearn.metrics` module."
   ]
  },
  {
   "cell_type": "code",
   "execution_count": 69,
   "id": "573aad13",
   "metadata": {},
   "outputs": [
    {
     "name": "stdout",
     "output_type": "stream",
     "text": [
      "Accuracy = 0.91, TPR = 0.98, FPR = 0.19 \n"
     ]
    }
   ],
   "source": [
    "from sklearn.metrics import accuracy_score, recall_score, precision_score\n",
    "y_pred_lg = lg.predict(X_test) #prediction using a threshold of P > 0.5\n",
    "tn_lg, fp_lg, fn_lg, tp_lg = confusion_matrix(y_test, y_pred_lg).ravel()\n",
    "accuracy_lg = (y_pred_lg==y_test).mean()\n",
    "tpr_lg = tp_lg/(tp_lg+fn_lg)\n",
    "fpr_lg = fp_lg/(fp_lg+tn_lg)\n",
    "print(f'Accuracy = {round(accuracy_lg,2)}, TPR = {round(tpr_lg,2)}, FPR = {round(fpr_lg,2)} ')"
   ]
  },
  {
   "cell_type": "markdown",
   "id": "2457bf9d",
   "metadata": {},
   "source": [
    "Note that the metrics above are calculated assuming a default threshold of *0.5*. Using a different thredhold would result in different precision, recall and accuracy.\n",
    "\n",
    "<img src=\"https://miro.medium.com/v2/resize:fit:1400/format:webp/1*QG0pno3_5tBm0fzf5Zp6Pw.png\" width=\"500\"/>\n",
    "\n",
    "\n",
    "Let's obtain the **probability predictions** on our test data:"
   ]
  },
  {
   "cell_type": "code",
   "execution_count": 70,
   "id": "4fa26cc1",
   "metadata": {},
   "outputs": [
    {
     "data": {
      "text/plain": [
       "array([0.78899251, 0.83160851, 0.71193624, 0.63541826, 0.85112211])"
      ]
     },
     "execution_count": 70,
     "metadata": {},
     "output_type": "execute_result"
    }
   ],
   "source": [
    "lg_probs = lg.predict_proba(X_test)[:,1] # Probability of obtaining 1\n",
    "lg_probs[:5]"
   ]
  },
  {
   "cell_type": "markdown",
   "id": "74b50d2e",
   "metadata": {},
   "source": [
    "##### Excercice 2:\n",
    "\n",
    "1. Write a function that accepts a 1. threshold, 2. vector of estimated probabilities on test data, 3. true test labels . The function returns a tuple: (TPR,FPR). Apply the function for the thresholds 0.01 and 0.99.\n",
    "2. Estimate TPR and FPR for the following *range* of thresholds: 0.01 to 0.99 based on steps of size 0.1. \n",
    "3. Plot the precision versus recall across thresholds."
   ]
  },
  {
   "cell_type": "code",
   "execution_count": 96,
   "id": "8c85c496",
   "metadata": {},
   "outputs": [
    {
     "data": {
      "image/png": "[encoded data removed]",
      "text/plain": [
       "<Figure size 640x480 with 1 Axes>"
      ]
     },
     "metadata": {},
     "output_type": "display_data"
    }
   ],
   "source": [
    "#1.\n",
    "def get_threshold_tpr_fpr(threshold, test_probs, test_labels):\n",
    "    y_pred = test_probs > threshold\n",
    "    tn, fp, fn, tp = confusion_matrix(test_labels, y_pred).ravel()\n",
    "    tpr= tp/(tp+fn)\n",
    "    fpr = fp/(fp+tn)\n",
    "    return tpr,fpr\n",
    "#2.\n",
    "tpr_scores = []\n",
    "fpr_scores = []\n",
    "for threshold in list(np.arange(0, 1, 0.001))+[np.inf]:\n",
    "    t_tpr,t_fpr = get_threshold_tpr_fpr(threshold, lg_probs, y_test)\n",
    "    #print(t_tpr,t_fpr)\n",
    "    tpr_scores.append(t_tpr)\n",
    "    fpr_scores.append(t_fpr)\n",
    "#3.\n",
    "plt.plot(fpr_scores,tpr_scores, color='darkorange', lw=2)\n",
    "plt.xlim([0.0, 1.0])\n",
    "plt.ylim([0.0, 1.05])\n",
    "plt.xlabel('FPR')\n",
    "plt.ylabel('TPR')\n",
    "#plt.title('Precision-Recall Curve')\n",
    "plt.show()\n",
    "    "
   ]
  },
  {
   "cell_type": "markdown",
   "id": "d9b893d1",
   "metadata": {},
   "source": [
    "Why is this plot interesting?\n"
   ]
  },
  {
   "cell_type": "code",
   "execution_count": 92,
   "id": "1efb8fcc",
   "metadata": {},
   "outputs": [
    {
     "data": {
      "text/plain": [
       "<sklearn.metrics._plot.roc_curve.RocCurveDisplay at 0x7fe560b5d6a0>"
      ]
     },
     "execution_count": 92,
     "metadata": {},
     "output_type": "execute_result"
    },
    {
     "data": {
      "image/png": "[encoded data removed]",
      "text/plain": [
       "<Figure size 640x480 with 1 Axes>"
      ]
     },
     "metadata": {},
     "output_type": "display_data"
    }
   ],
   "source": [
    "roc_auc = metrics.auc(fpr, tpr)\n",
    "display = metrics.RocCurveDisplay(fpr=fpr, tpr=tpr, roc_auc=roc_auc,estimator_name='example estimator')\n",
    "display.plot()"
   ]
  },
  {
   "cell_type": "markdown",
   "id": "1b15ff53",
   "metadata": {},
   "source": [
    " **Why is this plot intesting?**\n",
    " \n",
    "The Precision-Recall curve is a graphical illustration of the trade of between precision and recall when using different thresholds.\n",
    "The area under the Precision-Recall curve (AUPRC) is a common measure of the model's performance, which"
   ]
  },
  {
   "cell_type": "markdown",
   "id": "a75a40ac",
   "metadata": {},
   "source": [
    "#### Random Forest Classifier"
   ]
  },
  {
   "cell_type": "code",
   "execution_count": null,
   "id": "92304b6b",
   "metadata": {},
   "outputs": [],
   "source": [
    "from sklearn.ensemble import RandomForestClassifier\n",
    "rf = RandomForestClassifier()\n",
    "rf.fit(X_train, y_train)"
   ]
  },
  {
   "cell_type": "code",
   "execution_count": null,
   "id": "d3b781e5",
   "metadata": {},
   "outputs": [],
   "source": []
  }
 ],
 "metadata": {
  "kernelspec": {
   "display_name": "Python 3 (ipykernel)",
   "language": "python",
   "name": "python3"
  },
  "language_info": {
   "codemirror_mode": {
    "name": "ipython",
    "version": 3
   },
   "file_extension": ".py",
   "mimetype": "text/x-python",
   "name": "python",
   "nbconvert_exporter": "python",
   "pygments_lexer": "ipython3",
   "version": "3.8.5"
  }
 },
 "nbformat": 4,
 "nbformat_minor": 5
}

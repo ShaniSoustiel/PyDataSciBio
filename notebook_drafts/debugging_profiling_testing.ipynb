{
 "cells": [
  {
   "cell_type": "markdown",
   "metadata": {},
   "source": [
    "# Debugging Profiling and Testing in Python"
   ]
  },
  {
   "cell_type": "markdown",
   "metadata": {},
   "source": [
    "## The three main types of programming errors:\n",
    "\n",
    "- Syntax Errors\n",
    "- Runtime Errors\n",
    "- Logical Errors"
   ]
  },
  {
   "cell_type": "markdown",
   "metadata": {},
   "source": [
    "### Syntax error example:"
   ]
  },
  {
   "cell_type": "code",
   "execution_count": null,
   "metadata": {},
   "outputs": [],
   "source": [
    "def say_hello(name)\n",
    "    print(f\"Hello, {name}!\")"
   ]
  },
  {
   "cell_type": "code",
   "execution_count": null,
   "metadata": {},
   "outputs": [],
   "source": [
    "def say_hello(name):\n",
    "    print(f\"Hello, {name}!\")"
   ]
  },
  {
   "cell_type": "code",
   "execution_count": null,
   "metadata": {},
   "outputs": [],
   "source": [
    "say_hello(\"Elya\")"
   ]
  },
  {
   "cell_type": "markdown",
   "metadata": {},
   "source": [
    "### Runtime error example:"
   ]
  },
  {
   "cell_type": "code",
   "execution_count": null,
   "metadata": {},
   "outputs": [],
   "source": [
    "def divide(a, b):\n",
    "    return a / b\n",
    "\n",
    "result = divide(10, 0)\n",
    "print(f\"Result: {result}\")"
   ]
  },
  {
   "cell_type": "markdown",
   "metadata": {},
   "source": [
    "#### Another example:"
   ]
  },
  {
   "cell_type": "code",
   "execution_count": null,
   "metadata": {},
   "outputs": [],
   "source": [
    "def concatenate_strings(str1, str2):\n",
    "    return str1 + str2\n",
    "\n",
    "result = concatenate_strings(\"Hello\", 42)\n",
    "print(\"Concatenated String:\", result)"
   ]
  },
  {
   "cell_type": "markdown",
   "metadata": {},
   "source": [
    "### Logical error example:"
   ]
  },
  {
   "cell_type": "code",
   "execution_count": null,
   "metadata": {},
   "outputs": [],
   "source": [
    "def calculate_average(numbers):\n",
    "    total = sum(numbers)\n",
    "    count = len(numbers)\n",
    "    average = total / (count + 1)\n",
    "\n",
    "    return average\n",
    "\n",
    "# Example usage\n",
    "data = [10, 20, 30, 40, 50]\n",
    "average_result = calculate_average(data)\n",
    "print(\"Average:\", average_result)"
   ]
  },
  {
   "cell_type": "markdown",
   "metadata": {},
   "source": [
    "#### Another example:"
   ]
  },
  {
   "cell_type": "code",
   "execution_count": null,
   "metadata": {},
   "outputs": [],
   "source": [
    "def calculate_discounted_price(original_price, discount_percentage):\n",
    "    discounted_price = original_price - discount_percentage\n",
    "    return discounted_price\n",
    "\n",
    "# Example usage\n",
    "original_price = 100\n",
    "discount_percentage = 20\n",
    "final_price = calculate_discounted_price(original_price, discount_percentage)\n",
    "print(\"Final Price after Discount:\", final_price)"
   ]
  },
  {
   "cell_type": "markdown",
   "metadata": {},
   "source": [
    "## Python under-the-hood"
   ]
  },
  {
   "cell_type": "markdown",
   "metadata": {},
   "source": [
    "### What happens when I click run on a python script/cell?\n",
    "\n",
    "1. **Parser**: Checks syntax and breaks down Python code into manageable parts.\n",
    "  \n",
    "2. **Compiler**: Translates parsed code into bytecode, optimizing it for execution.\n",
    "  \n",
    "3. **Interpreter**: Executes bytecode, producing the output defined by the Python code, and manages program execution."
   ]
  },
  {
   "cell_type": "markdown",
   "metadata": {},
   "source": [
    "As programmers, we hope the all our bugs are of the first and second kind, That way, Python takes care of our mistakes for us, and returns an 'error' message and stop execution as expected.\n",
    "Logical Errors will not stop the execution of the program."
   ]
  },
  {
   "cell_type": "markdown",
   "metadata": {},
   "source": [
    "### How do we debug our code?"
   ]
  },
  {
   "cell_type": "markdown",
   "metadata": {},
   "source": [
    "- **Print Statements**: Output variable values or execution flow strategically.\n",
    "  \n",
    "- **Debugger**: Use built-in or IDE debuggers for real-time code inspection and variable tracking.\n",
    "  \n",
    "- **Logging**: Record diagnostic info with Python's logging module.\n",
    "  \n",
    "- **Assertions**: Validate conditions with `assert` statements to catch errors.\n",
    "  \n",
    "- **Interactive Exploration**: Experiment interactively in environments like Jupyter.\n",
    "  \n",
    "- **Profiling Tools**: Analyze code performance with tools like `snakeviz` for optimization."
   ]
  },
  {
   "cell_type": "markdown",
   "metadata": {},
   "source": [
    "We will focus on real-time code inspection, interactive exploration, and profiling."
   ]
  },
  {
   "cell_type": "code",
   "execution_count": null,
   "metadata": {},
   "outputs": [],
   "source": [
    "import numpy as np\n",
    "np.random.seed(42)\n",
    "numerators = np.random.choice(a=range(100), size=100).tolist()\n",
    "denominators = np.random.choice(a=range(100), size=100).tolist()\n",
    "\n",
    "rationals = zip(numerators, denominators)\n",
    "\n",
    "as_decimal = []\n",
    "for i,j in rationals:\n",
    "    temp = (i/j)\n",
    "    as_decimal.append(temp)\n",
    "\n",
    "as_decimal"
   ]
  },
  {
   "cell_type": "code",
   "execution_count": null,
   "metadata": {},
   "outputs": [],
   "source": [
    "def factorial(n):\n",
    "    if n == 0:\n",
    "        return 1\n",
    "    else:\n",
    "        return n * factorial(n - 1)\n",
    "\n",
    "result = factorial(5)\n",
    "print(\"Factorial of 5:\", result)"
   ]
  },
  {
   "cell_type": "markdown",
   "metadata": {},
   "source": [
    "## Profiling"
   ]
  },
  {
   "cell_type": "code",
   "execution_count": null,
   "metadata": {},
   "outputs": [],
   "source": [
    "%load_ext snakeviz\n",
    "%snakeviz_config -h localhost -p 8900"
   ]
  },
  {
   "cell_type": "code",
   "execution_count": null,
   "metadata": {},
   "outputs": [],
   "source": [
    "%%snakeviz\n",
    "# https://blog.finxter.com/python-cprofile-a-helpful-guide-with-prime-example/\n",
    "import random\n",
    "\n",
    "def guess():\n",
    "    ''' Returns a random number '''\n",
    "    return random.randint(2, 1000)\n",
    "\n",
    "def is_prime(n):\n",
    "    ''' Checks whether n is prime '''\n",
    "    for i in range(2, n):\n",
    "        for j in range(2, n):\n",
    "            if i * j == n:\n",
    "                return False\n",
    "    return True\n",
    "\n",
    "def find_primes(num):\n",
    "    primes = []\n",
    "    while len(primes) < num:\n",
    "        p = guess()\n",
    "        if is_prime(p):\n",
    "        \tprimes.append(p)\n",
    "    return primes\n",
    "\n",
    "print(find_primes(100))"
   ]
  },
  {
   "cell_type": "markdown",
   "metadata": {},
   "source": [
    "### Another example:"
   ]
  },
  {
   "cell_type": "code",
   "execution_count": null,
   "metadata": {},
   "outputs": [],
   "source": [
    "# %%snakeviz\n",
    "\n",
    "def load_word_list(file_path):\n",
    "    with open(file_path, 'r') as file:\n",
    "        return set(word.strip() for word in file)\n",
    "\n",
    "def check_words_against_file(main_file_path, word_file_path):\n",
    "    unmatched_words = []\n",
    "    \n",
    "    word_list = load_word_list(word_file_path)\n",
    "\n",
    "    with open(main_file_path, 'r') as file:\n",
    "        for line in file:\n",
    "            words = line.split()\n",
    "            for word in words:\n",
    "                word = word.strip(',.?!;:\"\\'').lower()\n",
    "                if word and word not in word_list:\n",
    "                    unmatched_words.append(word)\n",
    "\n",
    "    return unmatched_words\n",
    "\n",
    "# Example usage:\n",
    "main_file_path = '../data/anage_data.txt'\n",
    "word_file_path = '../data/to_match.txt'\n",
    "\n",
    "\n",
    "# %lprun -f check_words_against_file check_words_against_file(main_file_path, word_file_path)\n",
    "unmatched_words = check_words_against_file(main_file_path, word_file_path)\n",
    "\n",
    "# Print unmatched words\n",
    "print(\"Number of words not found in the word list:\")\n",
    "print(len(unmatched_words))"
   ]
  },
  {
   "cell_type": "markdown",
   "metadata": {},
   "source": [
    "## Unit testing"
   ]
  },
  {
   "cell_type": "markdown",
   "metadata": {},
   "source": [
    "- **Early Bug Detection**: Unit tests catch bugs early, reducing debugging time.\n",
    "  \n",
    "- **Safe Refactoring**: Unit tests ensure code changes don't break existing functionality.\n",
    "  \n",
    "- **Improved Code Quality**: Unit tests encourage modular, maintainable code design."
   ]
  },
  {
   "cell_type": "markdown",
   "metadata": {},
   "source": [
    "### How do we unit-test?"
   ]
  },
  {
   "cell_type": "code",
   "execution_count": null,
   "metadata": {},
   "outputs": [],
   "source": [
    "import ipytest\n",
    "ipytest.autoconfig()"
   ]
  },
  {
   "cell_type": "code",
   "execution_count": null,
   "metadata": {},
   "outputs": [],
   "source": [
    "def factorial(n):\n",
    "    if n == 0:\n",
    "        return 1\n",
    "    else:\n",
    "        return n * factorial(n - 1)\n",
    "    \n",
    "def test_factorial():\n",
    "    assert factorial(0) == 1\n",
    "    assert factorial(1) == 1\n",
    "    assert factorial(2) == 2\n",
    "    assert factorial(3) == 6\n",
    "    assert factorial(4) == 24\n",
    "    assert factorial(5) == 120"
   ]
  },
  {
   "cell_type": "code",
   "execution_count": null,
   "metadata": {},
   "outputs": [],
   "source": [
    "ipytest.run('-v')"
   ]
  },
  {
   "cell_type": "markdown",
   "metadata": {},
   "source": [
    "## Colophon\n",
    "This notebook was written by [Yoav Ram](http://python.yoavram.com) and is part of the [_Python for Engineers_](https://github.com/yoavram/Py4Eng) course.\n",
    "\n",
    "The notebook was written using [Python](http://python.org/) 3.7.\n",
    "Dependencies listed in [environment.yml](../environment.yml), full versions in [environment_full.yml](../environment_full.yml).\n",
    "\n",
    "This work is licensed under a CC BY-NC-SA 4.0 International License.\n",
    "\n",
    "![Python logo](https://www.python.org/static/community_logos/python-logo.png)"
   ]
  }
 ],
 "metadata": {
  "kernelspec": {
   "display_name": "Python 3 (ipykernel)",
   "language": "python",
   "name": "python3"
  },
  "language_info": {
   "codemirror_mode": {
    "name": "ipython",
    "version": 3
   },
   "file_extension": ".py",
   "mimetype": "text/x-python",
   "name": "python",
   "nbconvert_exporter": "python",
   "pygments_lexer": "ipython3",
   "version": "3.11.8"
  }
 },
 "nbformat": 4,
 "nbformat_minor": 4
}

{
 "cells": [
  {
   "cell_type": "markdown",
   "id": "1704bf6689d7d7ac",
   "metadata": {},
   "source": [
    "# HW3: Pandas, Seaborn, and Statistics\n",
    "## Names and id's:\n",
    "### Student 1: Shani Shalev, 316315720\n",
    "### Student 2: Yosef Ben Yehuda, 207108770"
   ]
  },
  {
   "cell_type": "code",
   "execution_count": 4,
   "id": "5fb61327d4ccc186",
   "metadata": {},
   "outputs": [],
   "source": [
    "import pandas as pd\n",
    "import seaborn as sns\n",
    "import scipy.stats\n",
    "from statsmodels.formula.api import ols\n",
    "import statsmodels.api as sm"
   ]
  },
  {
   "cell_type": "markdown",
   "id": "b3a85c24-c58a-4ef4-81be-146e2311bc7f",
   "metadata": {},
   "source": [
    "The [Possum dataset](https://www.kaggle.com/datasets/abrambeyer/openintro-possum) comprises nine morphometric measurements for each of the 104 mountain brushtail possums captured at seven locations spanning from Southern Victoria to central Queensland.  \n",
    "\n",
    "<img src=\"https://storage.googleapis.com/kaggle-datasets-images/1534513/2532158/c49c3c89019ed2251376ecfcf7a7eec0/dataset-cover.jpg?t=2021-08-17-01-33-40\" width=\"200\"/>\n"
   ]
  },
  {
   "cell_type": "code",
   "execution_count": 2,
   "id": "c67a03cd-24aa-46ba-921a-a00250a95f0c",
   "metadata": {
    "ExecuteTime": {
     "end_time": "2024-07-13T11:52:45.239199Z",
     "start_time": "2024-07-13T11:52:45.236208Z"
    }
   },
   "outputs": [],
   "source": [
    "filename = '../data/possum.csv'"
   ]
  },
  {
   "cell_type": "markdown",
   "id": "d035dacd-79f3-4426-8e52-42f824acb187",
   "metadata": {},
   "source": [
    "Read the dataset into a pandas dataframe named `possum_data`."
   ]
  },
  {
   "cell_type": "code",
   "execution_count": 6,
   "id": "5246717b-2cb4-4a1c-8e3c-7aa5d9934006",
   "metadata": {
    "ExecuteTime": {
     "end_time": "2024-07-13T11:52:50.852994Z",
     "start_time": "2024-07-13T11:52:50.841364Z"
    }
   },
   "outputs": [],
   "source": [
    "#Your code here\n",
    "possum_data = pd.read_csv(filename)"
   ]
  },
  {
   "cell_type": "markdown",
   "id": "fc83cd15-ceb7-4ef0-93d8-59420b4febda",
   "metadata": {},
   "source": [
    "Print a list of the dataset column names."
   ]
  },
  {
   "cell_type": "code",
   "execution_count": 4,
   "id": "2471d6ba-8de5-4ff5-804d-9a1c5dbdca25",
   "metadata": {
    "ExecuteTime": {
     "end_time": "2024-07-13T11:52:54.445694Z",
     "start_time": "2024-07-13T11:52:54.438671Z"
    }
   },
   "outputs": [
    {
     "data": {
      "text/plain": [
       "Index(['case', 'site', 'Pop', 'sex', 'age', 'hdlngth', 'skullw', 'totlngth',\n",
       "       'taill', 'footlgth', 'earconch', 'eye', 'chest', 'belly'],\n",
       "      dtype='object')"
      ]
     },
     "execution_count": 4,
     "metadata": {},
     "output_type": "execute_result"
    }
   ],
   "source": [
    "#Your code here\n",
    "list_of_columns = possum_data.columns\n",
    "list_of_columns\n",
    "\n"
   ]
  },
  {
   "cell_type": "markdown",
   "id": "27645b3b-b506-4ce4-a1e7-9d0c8edb7a49",
   "metadata": {},
   "source": [
    "how many rows and columns the dataframe contains?"
   ]
  },
  {
   "cell_type": "code",
   "execution_count": 5,
   "id": "b6a01316-fe0c-4f19-8694-6e87a2253eb1",
   "metadata": {
    "ExecuteTime": {
     "end_time": "2024-07-13T11:53:00.784567Z",
     "start_time": "2024-07-13T11:53:00.777786Z"
    }
   },
   "outputs": [
    {
     "name": "stdout",
     "output_type": "stream",
     "text": [
      "There are 104 rows, and 14 columns in the dataframe\n"
     ]
    },
    {
     "data": {
      "text/plain": [
       "(104, 14)"
      ]
     },
     "execution_count": 5,
     "metadata": {},
     "output_type": "execute_result"
    }
   ],
   "source": [
    "#Your code here\n",
    "# option 1\n",
    "num_of_columns = possum_data.shape[1]\n",
    "num_of_rows = possum_data.shape[0]\n",
    "print(f'There are {num_of_rows} rows, and {num_of_columns} columns in the dataframe')\n",
    "\n",
    "# option 2\n",
    "possum_data.shape"
   ]
  },
  {
   "cell_type": "markdown",
   "id": "d1e64ae0-892d-4adb-9089-58ee95efba92",
   "metadata": {},
   "source": [
    "Which columns contain null values? Provide a series containing only those columns along with their respective counts."
   ]
  },
  {
   "cell_type": "code",
   "execution_count": 8,
   "id": "31532c5a-72aa-47eb-9adb-5d392d8048b3",
   "metadata": {
    "ExecuteTime": {
     "end_time": "2024-07-13T11:53:06.317799Z",
     "start_time": "2024-07-13T11:53:06.312339Z"
    }
   },
   "outputs": [
    {
     "name": "stdout",
     "output_type": "stream",
     "text": [
      "age         2\n",
      "footlgth    1\n",
      "dtype: int64\n"
     ]
    }
   ],
   "source": [
    "#Your code here\n",
    "missing_values = possum_data.isnull().sum()\n",
    "print(missing_values[missing_values > 0])"
   ]
  },
  {
   "cell_type": "markdown",
   "id": "20887861-7a2c-4bf5-8cbc-d258a33e22a1",
   "metadata": {},
   "source": [
    "Remove the **rows** with missing values."
   ]
  },
  {
   "cell_type": "code",
   "execution_count": 9,
   "id": "db684e70-7a5b-4d10-981f-5109fe7e813a",
   "metadata": {
    "ExecuteTime": {
     "end_time": "2024-07-13T11:53:14.345485Z",
     "start_time": "2024-07-13T11:53:14.339285Z"
    }
   },
   "outputs": [
    {
     "data": {
      "text/plain": [
       "(101, 14)"
      ]
     },
     "execution_count": 9,
     "metadata": {},
     "output_type": "execute_result"
    }
   ],
   "source": [
    "#Your code here\n",
    "possum_data = possum_data.dropna()\n",
    "possum_data.shape # check the shape of the new dataframe, original shape was (104, 14), new shape should be (101, 14)"
   ]
  },
  {
   "cell_type": "markdown",
   "id": "5b15efa2-464a-4f89-8c0e-c4ce3e169eab",
   "metadata": {},
   "source": [
    "Generate a new column named 'body_ratio' based on ratio between the head length ('hdlngth') and total size ('totlngth')."
   ]
  },
  {
   "cell_type": "code",
   "execution_count": 10,
   "id": "5cbb0019-c262-436f-84b6-91ec5e98be71",
   "metadata": {
    "ExecuteTime": {
     "end_time": "2024-07-13T11:53:21.619449Z",
     "start_time": "2024-07-13T11:53:21.601894Z"
    }
   },
   "outputs": [
    {
     "data": {
      "text/html": [
       "<div>\n",
       "<style scoped>\n",
       "    .dataframe tbody tr th:only-of-type {\n",
       "        vertical-align: middle;\n",
       "    }\n",
       "\n",
       "    .dataframe tbody tr th {\n",
       "        vertical-align: top;\n",
       "    }\n",
       "\n",
       "    .dataframe thead th {\n",
       "        text-align: right;\n",
       "    }\n",
       "</style>\n",
       "<table border=\"1\" class=\"dataframe\">\n",
       "  <thead>\n",
       "    <tr style=\"text-align: right;\">\n",
       "      <th></th>\n",
       "      <th>case</th>\n",
       "      <th>site</th>\n",
       "      <th>Pop</th>\n",
       "      <th>sex</th>\n",
       "      <th>age</th>\n",
       "      <th>hdlngth</th>\n",
       "      <th>skullw</th>\n",
       "      <th>totlngth</th>\n",
       "      <th>taill</th>\n",
       "      <th>footlgth</th>\n",
       "      <th>earconch</th>\n",
       "      <th>eye</th>\n",
       "      <th>chest</th>\n",
       "      <th>belly</th>\n",
       "      <th>body_ratio</th>\n",
       "    </tr>\n",
       "  </thead>\n",
       "  <tbody>\n",
       "    <tr>\n",
       "      <th>0</th>\n",
       "      <td>1</td>\n",
       "      <td>1</td>\n",
       "      <td>Vic</td>\n",
       "      <td>m</td>\n",
       "      <td>8.0</td>\n",
       "      <td>94.1</td>\n",
       "      <td>60.4</td>\n",
       "      <td>89.0</td>\n",
       "      <td>36.0</td>\n",
       "      <td>74.5</td>\n",
       "      <td>54.5</td>\n",
       "      <td>15.2</td>\n",
       "      <td>28.0</td>\n",
       "      <td>36.0</td>\n",
       "      <td>1.057303</td>\n",
       "    </tr>\n",
       "    <tr>\n",
       "      <th>1</th>\n",
       "      <td>2</td>\n",
       "      <td>1</td>\n",
       "      <td>Vic</td>\n",
       "      <td>f</td>\n",
       "      <td>6.0</td>\n",
       "      <td>92.5</td>\n",
       "      <td>57.6</td>\n",
       "      <td>91.5</td>\n",
       "      <td>36.5</td>\n",
       "      <td>72.5</td>\n",
       "      <td>51.2</td>\n",
       "      <td>16.0</td>\n",
       "      <td>28.5</td>\n",
       "      <td>33.0</td>\n",
       "      <td>1.010929</td>\n",
       "    </tr>\n",
       "    <tr>\n",
       "      <th>2</th>\n",
       "      <td>3</td>\n",
       "      <td>1</td>\n",
       "      <td>Vic</td>\n",
       "      <td>f</td>\n",
       "      <td>6.0</td>\n",
       "      <td>94.0</td>\n",
       "      <td>60.0</td>\n",
       "      <td>95.5</td>\n",
       "      <td>39.0</td>\n",
       "      <td>75.4</td>\n",
       "      <td>51.9</td>\n",
       "      <td>15.5</td>\n",
       "      <td>30.0</td>\n",
       "      <td>34.0</td>\n",
       "      <td>0.984293</td>\n",
       "    </tr>\n",
       "    <tr>\n",
       "      <th>3</th>\n",
       "      <td>4</td>\n",
       "      <td>1</td>\n",
       "      <td>Vic</td>\n",
       "      <td>f</td>\n",
       "      <td>6.0</td>\n",
       "      <td>93.2</td>\n",
       "      <td>57.1</td>\n",
       "      <td>92.0</td>\n",
       "      <td>38.0</td>\n",
       "      <td>76.1</td>\n",
       "      <td>52.2</td>\n",
       "      <td>15.2</td>\n",
       "      <td>28.0</td>\n",
       "      <td>34.0</td>\n",
       "      <td>1.013043</td>\n",
       "    </tr>\n",
       "    <tr>\n",
       "      <th>4</th>\n",
       "      <td>5</td>\n",
       "      <td>1</td>\n",
       "      <td>Vic</td>\n",
       "      <td>f</td>\n",
       "      <td>2.0</td>\n",
       "      <td>91.5</td>\n",
       "      <td>56.3</td>\n",
       "      <td>85.5</td>\n",
       "      <td>36.0</td>\n",
       "      <td>71.0</td>\n",
       "      <td>53.2</td>\n",
       "      <td>15.1</td>\n",
       "      <td>28.5</td>\n",
       "      <td>33.0</td>\n",
       "      <td>1.070175</td>\n",
       "    </tr>\n",
       "  </tbody>\n",
       "</table>\n",
       "</div>"
      ],
      "text/plain": [
       "   case  site  Pop sex  age  hdlngth  skullw  totlngth  taill  footlgth  \\\n",
       "0     1     1  Vic   m  8.0     94.1    60.4      89.0   36.0      74.5   \n",
       "1     2     1  Vic   f  6.0     92.5    57.6      91.5   36.5      72.5   \n",
       "2     3     1  Vic   f  6.0     94.0    60.0      95.5   39.0      75.4   \n",
       "3     4     1  Vic   f  6.0     93.2    57.1      92.0   38.0      76.1   \n",
       "4     5     1  Vic   f  2.0     91.5    56.3      85.5   36.0      71.0   \n",
       "\n",
       "   earconch   eye  chest  belly  body_ratio  \n",
       "0      54.5  15.2   28.0   36.0    1.057303  \n",
       "1      51.2  16.0   28.5   33.0    1.010929  \n",
       "2      51.9  15.5   30.0   34.0    0.984293  \n",
       "3      52.2  15.2   28.0   34.0    1.013043  \n",
       "4      53.2  15.1   28.5   33.0    1.070175  "
      ]
     },
     "execution_count": 10,
     "metadata": {},
     "output_type": "execute_result"
    }
   ],
   "source": [
    "#Your code here\n",
    "possum_data['body_ratio'] = possum_data['hdlngth'] / possum_data['totlngth']\n",
    "possum_data.head()"
   ]
  },
  {
   "cell_type": "markdown",
   "id": "ab5631d1-9e63-44ff-94e6-b9bba2f2b0c4",
   "metadata": {},
   "source": [
    "Is the body ratio correlated to age? is it correlated to belly size? report the Pearson coefficients and corresponding p-values."
   ]
  },
  {
   "cell_type": "code",
   "execution_count": 11,
   "id": "a5b2cc97-139a-488a-93d0-37c3a501ce77",
   "metadata": {
    "ExecuteTime": {
     "end_time": "2024-07-13T11:53:29.236648Z",
     "start_time": "2024-07-13T11:53:29.228614Z"
    }
   },
   "outputs": [
    {
     "ename": "NameError",
     "evalue": "name 'scipy' is not defined",
     "output_type": "error",
     "traceback": [
      "\u001b[1;31m---------------------------------------------------------------------------\u001b[0m",
      "\u001b[1;31mNameError\u001b[0m                                 Traceback (most recent call last)",
      "Cell \u001b[1;32mIn[11], line 3\u001b[0m\n\u001b[0;32m      1\u001b[0m \u001b[38;5;66;03m#Your code here\u001b[39;00m\n\u001b[0;32m      2\u001b[0m \u001b[38;5;66;03m# body ratio and age\u001b[39;00m\n\u001b[1;32m----> 3\u001b[0m pearson_coef_age, p_value_age \u001b[38;5;241m=\u001b[39m \u001b[43mscipy\u001b[49m\u001b[38;5;241m.\u001b[39mstats\u001b[38;5;241m.\u001b[39mpearsonr(possum_data[\u001b[38;5;124m'\u001b[39m\u001b[38;5;124mbody_ratio\u001b[39m\u001b[38;5;124m'\u001b[39m], possum_data[\u001b[38;5;124m'\u001b[39m\u001b[38;5;124mage\u001b[39m\u001b[38;5;124m'\u001b[39m])\n\u001b[0;32m      4\u001b[0m \u001b[38;5;28mprint\u001b[39m(\u001b[38;5;124mf\u001b[39m\u001b[38;5;124m'\u001b[39m\u001b[38;5;124mAge: r = \u001b[39m\u001b[38;5;132;01m{\u001b[39;00m\u001b[38;5;28mround\u001b[39m(pearson_coef_age,\u001b[38;5;250m \u001b[39m\u001b[38;5;241m3\u001b[39m)\u001b[38;5;132;01m}\u001b[39;00m\u001b[38;5;124m, P-value: \u001b[39m\u001b[38;5;132;01m{\u001b[39;00m\u001b[38;5;28mround\u001b[39m(p_value_age,\u001b[38;5;250m \u001b[39m\u001b[38;5;241m3\u001b[39m)\u001b[38;5;132;01m}\u001b[39;00m\u001b[38;5;124m'\u001b[39m)\n\u001b[0;32m      5\u001b[0m \u001b[38;5;66;03m# body ratio and belly size\u001b[39;00m\n",
      "\u001b[1;31mNameError\u001b[0m: name 'scipy' is not defined"
     ]
    }
   ],
   "source": [
    "#Your code here\n",
    "# body ratio and age\n",
    "pearson_coef_age, p_value_age = scipy.stats.pearsonr(possum_data['body_ratio'], possum_data['age'])\n",
    "print(f'Age: r = {round(pearson_coef_age, 3)}, P-value: {round(p_value_age, 3)}')\n",
    "# body ratio and belly size\n",
    "pearson_coef_belly, p_value_belly = scipy.stats.pearsonr(possum_data['body_ratio'], possum_data['belly'])\n",
    "print(f'Belly: r = {round(pearson_coef_belly, 3)}, P-value: {round(p_value_belly, 3)}')\n",
    "\n"
   ]
  },
  {
   "cell_type": "markdown",
   "id": "87c94ce4-b24e-474e-839e-7c8b6d3748fa",
   "metadata": {},
   "source": [
    "Use seaborn to generate a single histogram plot of the body ratio, showing the distribution for each sex separately. Experiment with varying the number of bins to observe its effect on the visualization. \n",
    "Setting kde=True to add a smooth line called a \"kernel density estimate\" (KDE) to the histogram bars. This line provides an approximation of the underlying probability density function of the data, helping visualize the distribution more smoothly."
   ]
  },
  {
   "cell_type": "code",
   "execution_count": 12,
   "id": "f3ccca34-ac17-47e4-b7b8-5dda8c330e0d",
   "metadata": {
    "ExecuteTime": {
     "end_time": "2024-07-13T11:53:34.786865Z",
     "start_time": "2024-07-13T11:53:34.444522Z"
    }
   },
   "outputs": [
    {
     "data": {
      "image/png": "[encoded data removed]",
      "text/plain": [
       "<Figure size 640x480 with 1 Axes>"
      ]
     },
     "metadata": {},
     "output_type": "display_data"
    }
   ],
   "source": [
    "sns.histplot(data=possum_data, x='body_ratio', hue='sex', kde = True, bins = 10);"
   ]
  },
  {
   "cell_type": "markdown",
   "id": "3a4059ce-040a-4a09-9bac-c92ef37c6521",
   "metadata": {},
   "source": [
    "Use an appropriate statistical test to test the assumption that the mean of body ratio for males and females is equal. Import any necessary libraries."
   ]
  },
  {
   "cell_type": "code",
   "execution_count": 11,
   "id": "0a26398a-e9ae-4e0d-aca4-bcefe975e390",
   "metadata": {
    "ExecuteTime": {
     "end_time": "2024-07-13T11:53:40.034123Z",
     "start_time": "2024-07-13T11:53:40.026908Z"
    }
   },
   "outputs": [
    {
     "data": {
      "text/plain": [
       "TtestResult(statistic=3.3675353321330803, pvalue=0.0010813123298912882, df=99.0)"
      ]
     },
     "execution_count": 11,
     "metadata": {},
     "output_type": "execute_result"
    }
   ],
   "source": [
    "#Your code here\n",
    "# H0: mean F == mean M\n",
    "# H1: mean  F != mean M\n",
    "# alpha = 0.05\n",
    "female_body_ratio = possum_data.loc[possum_data.sex=='f']['body_ratio']\n",
    "male_body_ratio = possum_data.loc[possum_data.sex=='m']['body_ratio'] \n",
    "scipy.stats.ttest_ind(male_body_ratio, female_body_ratio)"
   ]
  },
  {
   "cell_type": "markdown",
   "id": "6caca1aa-d17b-40db-93d0-0bfd8362acab",
   "metadata": {},
   "source": [
    "How many sites are listed in the 'Site' column? How many rows are associated with each site?"
   ]
  },
  {
   "cell_type": "code",
   "execution_count": 12,
   "id": "12a3a07a-c8e6-433f-b8ce-7eaad7aba7b1",
   "metadata": {
    "ExecuteTime": {
     "end_time": "2024-07-13T11:53:43.370049Z",
     "start_time": "2024-07-13T11:53:43.363848Z"
    }
   },
   "outputs": [
    {
     "data": {
      "text/plain": [
       "site\n",
       "1    33\n",
       "7    18\n",
       "5    13\n",
       "6    13\n",
       "2    10\n",
       "3     7\n",
       "4     7\n",
       "Name: count, dtype: int64"
      ]
     },
     "execution_count": 12,
     "metadata": {},
     "output_type": "execute_result"
    }
   ],
   "source": [
    "#Your code here\n",
    "site_counts = possum_data['site'].value_counts()\n",
    "site_counts"
   ]
  },
  {
   "cell_type": "markdown",
   "id": "108e4375-39c1-4122-8b23-d2277b821977",
   "metadata": {},
   "source": [
    "Remove rows associated with sites that occur fewer than 10 times in the dataset."
   ]
  },
  {
   "cell_type": "code",
   "execution_count": 16,
   "id": "856de26a-9e73-464a-87b7-5cf3be5b363e",
   "metadata": {
    "ExecuteTime": {
     "end_time": "2024-07-13T11:57:34.131518Z",
     "start_time": "2024-07-13T11:57:34.125059Z"
    }
   },
   "outputs": [
    {
     "data": {
      "text/plain": [
       "(87, 15)"
      ]
     },
     "execution_count": 16,
     "metadata": {},
     "output_type": "execute_result"
    }
   ],
   "source": [
    "#Your code here\n",
    "site_counts = possum_data['site'].value_counts()\n",
    "sites_to_keep = site_counts[site_counts >= 10].index # sites with 10 or more rows\n",
    "possum_data = possum_data[possum_data['site'].isin(sites_to_keep)] # keep only rows with sites that have 10 or more rows\n",
    "possum_data.shape # check the shape of the new dataframe, original shape was (101, 15), new shape should be (87, 15)"
   ]
  },
  {
   "cell_type": "markdown",
   "id": "f7955583-a2ea-4118-aae9-3d1cdedeb927",
   "metadata": {},
   "source": [
    "Create a summary DataFrame that calculates the average body ratio for each site."
   ]
  },
  {
   "cell_type": "code",
   "execution_count": 19,
   "id": "3a23cbb2-fd8d-41cd-8e8e-9194d8eb5c9b",
   "metadata": {
    "ExecuteTime": {
     "end_time": "2024-07-13T12:01:04.662337Z",
     "start_time": "2024-07-13T12:01:04.655727Z"
    }
   },
   "outputs": [
    {
     "data": {
      "text/plain": [
       "site\n",
       "1    1.045584\n",
       "2    1.100563\n",
       "5    1.060515\n",
       "6    1.056749\n",
       "7    1.081662\n",
       "Name: body_ratio, dtype: float64"
      ]
     },
     "execution_count": 19,
     "metadata": {},
     "output_type": "execute_result"
    }
   ],
   "source": [
    "#Your code here\n",
    "site_avg_body_ratio = possum_data.groupby('site')['body_ratio'].mean()\n",
    "site_avg_body_ratio"
   ]
  },
  {
   "cell_type": "markdown",
   "id": "d8e3d36f-a463-4a57-b2a5-cc22de268b8f",
   "metadata": {},
   "source": [
    "Generate a boxplot showing the distribution of body ratio across different sites using Seaborn. Before creating the plot, check the data type of the 'site' column. You may need to convert it to a different type before generating the plot."
   ]
  },
  {
   "cell_type": "code",
   "execution_count": 21,
   "id": "bd82e239-5480-481b-a48e-276c32d4085d",
   "metadata": {
    "ExecuteTime": {
     "end_time": "2024-07-13T12:04:10.809011Z",
     "start_time": "2024-07-13T12:04:10.594300Z"
    }
   },
   "outputs": [
    {
     "name": "stderr",
     "output_type": "stream",
     "text": [
      "/var/folders/gy/pcf16vh94yb5bw_rvktb_cyh0000gn/T/ipykernel_3532/2183403352.py:3: SettingWithCopyWarning: \n",
      "A value is trying to be set on a copy of a slice from a DataFrame.\n",
      "Try using .loc[row_indexer,col_indexer] = value instead\n",
      "\n",
      "See the caveats in the documentation: https://pandas.pydata.org/pandas-docs/stable/user_guide/indexing.html#returning-a-view-versus-a-copy\n",
      "  possum_data['site'] = possum_data['site'].astype('category')\n",
      "/opt/anaconda3/lib/python3.11/site-packages/seaborn/categorical.py:641: FutureWarning: The default of observed=False is deprecated and will be changed to True in a future version of pandas. Pass observed=False to retain current behavior or observed=True to adopt the future default and silence this warning.\n",
      "  grouped_vals = vals.groupby(grouper)\n"
     ]
    },
    {
     "data": {
      "image/png": "[encoded data removed]",
      "text/plain": [
       "<Figure size 640x480 with 1 Axes>"
      ]
     },
     "metadata": {},
     "output_type": "display_data"
    }
   ],
   "source": [
    "#Your code here\n",
    "type(possum_data['site'])\n",
    "possum_data['site'] = possum_data['site'].astype('category')\n",
    "sns.boxplot(data=possum_data, x='site', y='body_ratio');"
   ]
  },
  {
   "cell_type": "markdown",
   "id": "f35a0884-ed1c-4183-8e67-d4b3c3e63185",
   "metadata": {},
   "source": [
    "Use an appropriate statistical test to determine if there's a significant difference in the mean body ratio across various sites. (Refer to the 'Statistics' notebook for more details.)"
   ]
  },
  {
   "cell_type": "code",
   "execution_count": 22,
   "id": "335af2b9-224e-434c-9f5a-15c2dc682845",
   "metadata": {
    "ExecuteTime": {
     "end_time": "2024-07-13T12:07:28.374933Z",
     "start_time": "2024-07-13T12:07:28.342999Z"
    }
   },
   "outputs": [
    {
     "data": {
      "text/html": [
       "<div>\n",
       "<style scoped>\n",
       "    .dataframe tbody tr th:only-of-type {\n",
       "        vertical-align: middle;\n",
       "    }\n",
       "\n",
       "    .dataframe tbody tr th {\n",
       "        vertical-align: top;\n",
       "    }\n",
       "\n",
       "    .dataframe thead th {\n",
       "        text-align: right;\n",
       "    }\n",
       "</style>\n",
       "<table border=\"1\" class=\"dataframe\">\n",
       "  <thead>\n",
       "    <tr style=\"text-align: right;\">\n",
       "      <th></th>\n",
       "      <th>df</th>\n",
       "      <th>sum_sq</th>\n",
       "      <th>mean_sq</th>\n",
       "      <th>F</th>\n",
       "      <th>PR(&gt;F)</th>\n",
       "    </tr>\n",
       "  </thead>\n",
       "  <tbody>\n",
       "    <tr>\n",
       "      <th>C(site)</th>\n",
       "      <td>4.0</td>\n",
       "      <td>0.030970</td>\n",
       "      <td>0.007743</td>\n",
       "      <td>7.0429</td>\n",
       "      <td>0.000063</td>\n",
       "    </tr>\n",
       "    <tr>\n",
       "      <th>Residual</th>\n",
       "      <td>82.0</td>\n",
       "      <td>0.090146</td>\n",
       "      <td>0.001099</td>\n",
       "      <td>NaN</td>\n",
       "      <td>NaN</td>\n",
       "    </tr>\n",
       "  </tbody>\n",
       "</table>\n",
       "</div>"
      ],
      "text/plain": [
       "            df    sum_sq   mean_sq       F    PR(>F)\n",
       "C(site)    4.0  0.030970  0.007743  7.0429  0.000063\n",
       "Residual  82.0  0.090146  0.001099     NaN       NaN"
      ]
     },
     "execution_count": 22,
     "metadata": {},
     "output_type": "execute_result"
    }
   ],
   "source": [
    "#Your code here\n",
    "model = ols('body_ratio ~ C(site)', data=possum_data).fit()\n",
    "aov_table = sm.stats.anova_lm(model)\n",
    "aov_table"
   ]
  },
  {
   "cell_type": "markdown",
   "id": "f1ac82cc-40bd-4319-815a-39a8f4aa84b0",
   "metadata": {},
   "source": [
    "We now want to explore the linear relationship between body ratio and foot length ('footlgth'), separately for each 'sex' category. Create a simple linear regression plot using Seaborn to visualize this relationship."
   ]
  },
  {
   "cell_type": "code",
   "execution_count": 32,
   "id": "51748109-31f3-4b0d-a006-1ab79076a18c",
   "metadata": {
    "ExecuteTime": {
     "end_time": "2024-07-13T12:39:56.384549Z",
     "start_time": "2024-07-13T12:39:55.439308Z"
    }
   },
   "outputs": [
    {
     "data": {
      "image/png": "[encoded data removed]",
      "text/plain": [
       "<Figure size 561.5x500 with 1 Axes>"
      ]
     },
     "metadata": {},
     "output_type": "display_data"
    }
   ],
   "source": [
    "#Your code here\n",
    "sns.lmplot(data=possum_data, x='footlgth', y='body_ratio', hue='sex');"
   ]
  },
  {
   "cell_type": "markdown",
   "id": "9b27191a-68c8-47a4-a3ed-f5f197ba04c5",
   "metadata": {},
   "source": [
    "To delve deeper into this relationship, construct a linear regression model with the body ratio as the dependent variable and foot length ('footlgth') and sex as the independent variables. Print the model summary and determine if sex and foot length are significant variables."
   ]
  },
  {
   "cell_type": "code",
   "execution_count": 38,
   "id": "4389c3a4-511b-4dad-a32c-6f87ac734087",
   "metadata": {
    "ExecuteTime": {
     "end_time": "2024-07-13T13:01:32.599647Z",
     "start_time": "2024-07-13T13:01:32.413952Z"
    }
   },
   "outputs": [
    {
     "data": {
      "text/html": [
       "<table class=\"simpletable\">\n",
       "<caption>OLS Regression Results</caption>\n",
       "<tr>\n",
       "  <th>Dep. Variable:</th>       <td>body_ratio</td>    <th>  R-squared:         </th> <td>   0.141</td>\n",
       "</tr>\n",
       "<tr>\n",
       "  <th>Model:</th>                   <td>OLS</td>       <th>  Adj. R-squared:    </th> <td>   0.120</td>\n",
       "</tr>\n",
       "<tr>\n",
       "  <th>Method:</th>             <td>Least Squares</td>  <th>  F-statistic:       </th> <td>   6.885</td>\n",
       "</tr>\n",
       "<tr>\n",
       "  <th>Date:</th>             <td>Sat, 13 Jul 2024</td> <th>  Prob (F-statistic):</th>  <td>0.00170</td>\n",
       "</tr>\n",
       "<tr>\n",
       "  <th>Time:</th>                 <td>16:01:32</td>     <th>  Log-Likelihood:    </th> <td>  169.25</td>\n",
       "</tr>\n",
       "<tr>\n",
       "  <th>No. Observations:</th>      <td>    87</td>      <th>  AIC:               </th> <td>  -332.5</td>\n",
       "</tr>\n",
       "<tr>\n",
       "  <th>Df Residuals:</th>          <td>    84</td>      <th>  BIC:               </th> <td>  -325.1</td>\n",
       "</tr>\n",
       "<tr>\n",
       "  <th>Df Model:</th>              <td>     2</td>      <th>                     </th>     <td> </td>   \n",
       "</tr>\n",
       "<tr>\n",
       "  <th>Covariance Type:</th>      <td>nonrobust</td>    <th>                     </th>     <td> </td>   \n",
       "</tr>\n",
       "</table>\n",
       "<table class=\"simpletable\">\n",
       "<tr>\n",
       "       <td></td>          <th>coef</th>     <th>std err</th>      <th>t</th>      <th>P>|t|</th>  <th>[0.025</th>    <th>0.975]</th>  \n",
       "</tr>\n",
       "<tr>\n",
       "  <th>Intercept</th>   <td>    1.1562</td> <td>    0.059</td> <td>   19.609</td> <td> 0.000</td> <td>    1.039</td> <td>    1.273</td>\n",
       "</tr>\n",
       "<tr>\n",
       "  <th>C(sex)[T.m]</th> <td>    0.0217</td> <td>    0.008</td> <td>    2.774</td> <td> 0.007</td> <td>    0.006</td> <td>    0.037</td>\n",
       "</tr>\n",
       "<tr>\n",
       "  <th>footlgth</th>    <td>   -0.0015</td> <td>    0.001</td> <td>   -1.825</td> <td> 0.072</td> <td>   -0.003</td> <td>    0.000</td>\n",
       "</tr>\n",
       "</table>\n",
       "<table class=\"simpletable\">\n",
       "<tr>\n",
       "  <th>Omnibus:</th>       <td> 0.869</td> <th>  Durbin-Watson:     </th> <td>   1.621</td>\n",
       "</tr>\n",
       "<tr>\n",
       "  <th>Prob(Omnibus):</th> <td> 0.648</td> <th>  Jarque-Bera (JB):  </th> <td>   0.375</td>\n",
       "</tr>\n",
       "<tr>\n",
       "  <th>Skew:</th>          <td>-0.021</td> <th>  Prob(JB):          </th> <td>   0.829</td>\n",
       "</tr>\n",
       "<tr>\n",
       "  <th>Kurtosis:</th>      <td> 3.319</td> <th>  Cond. No.          </th> <td>1.07e+03</td>\n",
       "</tr>\n",
       "</table><br/><br/>Notes:<br/>[1] Standard Errors assume that the covariance matrix of the errors is correctly specified.<br/>[2] The condition number is large, 1.07e+03. This might indicate that there are<br/>strong multicollinearity or other numerical problems."
      ],
      "text/latex": [
       "\\begin{center}\n",
       "\\begin{tabular}{lclc}\n",
       "\\toprule\n",
       "\\textbf{Dep. Variable:}    &   body\\_ratio    & \\textbf{  R-squared:         } &     0.141   \\\\\n",
       "\\textbf{Model:}            &       OLS        & \\textbf{  Adj. R-squared:    } &     0.120   \\\\\n",
       "\\textbf{Method:}           &  Least Squares   & \\textbf{  F-statistic:       } &     6.885   \\\\\n",
       "\\textbf{Date:}             & Sat, 13 Jul 2024 & \\textbf{  Prob (F-statistic):} &  0.00170    \\\\\n",
       "\\textbf{Time:}             &     16:01:32     & \\textbf{  Log-Likelihood:    } &    169.25   \\\\\n",
       "\\textbf{No. Observations:} &          87      & \\textbf{  AIC:               } &    -332.5   \\\\\n",
       "\\textbf{Df Residuals:}     &          84      & \\textbf{  BIC:               } &    -325.1   \\\\\n",
       "\\textbf{Df Model:}         &           2      & \\textbf{                     } &             \\\\\n",
       "\\textbf{Covariance Type:}  &    nonrobust     & \\textbf{                     } &             \\\\\n",
       "\\bottomrule\n",
       "\\end{tabular}\n",
       "\\begin{tabular}{lcccccc}\n",
       "                     & \\textbf{coef} & \\textbf{std err} & \\textbf{t} & \\textbf{P$> |$t$|$} & \\textbf{[0.025} & \\textbf{0.975]}  \\\\\n",
       "\\midrule\n",
       "\\textbf{Intercept}   &       1.1562  &        0.059     &    19.609  &         0.000        &        1.039    &        1.273     \\\\\n",
       "\\textbf{C(sex)[T.m]} &       0.0217  &        0.008     &     2.774  &         0.007        &        0.006    &        0.037     \\\\\n",
       "\\textbf{footlgth}    &      -0.0015  &        0.001     &    -1.825  &         0.072        &       -0.003    &        0.000     \\\\\n",
       "\\bottomrule\n",
       "\\end{tabular}\n",
       "\\begin{tabular}{lclc}\n",
       "\\textbf{Omnibus:}       &  0.869 & \\textbf{  Durbin-Watson:     } &    1.621  \\\\\n",
       "\\textbf{Prob(Omnibus):} &  0.648 & \\textbf{  Jarque-Bera (JB):  } &    0.375  \\\\\n",
       "\\textbf{Skew:}          & -0.021 & \\textbf{  Prob(JB):          } &    0.829  \\\\\n",
       "\\textbf{Kurtosis:}      &  3.319 & \\textbf{  Cond. No.          } & 1.07e+03  \\\\\n",
       "\\bottomrule\n",
       "\\end{tabular}\n",
       "%\\caption{OLS Regression Results}\n",
       "\\end{center}\n",
       "\n",
       "Notes: \\newline\n",
       " [1] Standard Errors assume that the covariance matrix of the errors is correctly specified. \\newline\n",
       " [2] The condition number is large, 1.07e+03. This might indicate that there are \\newline\n",
       " strong multicollinearity or other numerical problems."
      ],
      "text/plain": [
       "<class 'statsmodels.iolib.summary.Summary'>\n",
       "\"\"\"\n",
       "                            OLS Regression Results                            \n",
       "==============================================================================\n",
       "Dep. Variable:             body_ratio   R-squared:                       0.141\n",
       "Model:                            OLS   Adj. R-squared:                  0.120\n",
       "Method:                 Least Squares   F-statistic:                     6.885\n",
       "Date:                Sat, 13 Jul 2024   Prob (F-statistic):            0.00170\n",
       "Time:                        16:01:32   Log-Likelihood:                 169.25\n",
       "No. Observations:                  87   AIC:                            -332.5\n",
       "Df Residuals:                      84   BIC:                            -325.1\n",
       "Df Model:                           2                                         \n",
       "Covariance Type:            nonrobust                                         \n",
       "===============================================================================\n",
       "                  coef    std err          t      P>|t|      [0.025      0.975]\n",
       "-------------------------------------------------------------------------------\n",
       "Intercept       1.1562      0.059     19.609      0.000       1.039       1.273\n",
       "C(sex)[T.m]     0.0217      0.008      2.774      0.007       0.006       0.037\n",
       "footlgth       -0.0015      0.001     -1.825      0.072      -0.003       0.000\n",
       "==============================================================================\n",
       "Omnibus:                        0.869   Durbin-Watson:                   1.621\n",
       "Prob(Omnibus):                  0.648   Jarque-Bera (JB):                0.375\n",
       "Skew:                          -0.021   Prob(JB):                        0.829\n",
       "Kurtosis:                       3.319   Cond. No.                     1.07e+03\n",
       "==============================================================================\n",
       "\n",
       "Notes:\n",
       "[1] Standard Errors assume that the covariance matrix of the errors is correctly specified.\n",
       "[2] The condition number is large, 1.07e+03. This might indicate that there are\n",
       "strong multicollinearity or other numerical problems.\n",
       "\"\"\""
      ]
     },
     "execution_count": 38,
     "metadata": {},
     "output_type": "execute_result"
    }
   ],
   "source": [
    "#Your code here\n",
    "model_1 = ols(formula=\"body_ratio ~ footlgth+C(sex)\", data=possum_data).fit()\n",
    "model_1.summary() # it seems that sex is a significant variable (p-Val = 0.007), but foot length is not (p-Val = 0.072)"
   ]
  },
  {
   "cell_type": "markdown",
   "id": "08b665f4-5c83-411d-b973-e6be0c87b67e",
   "metadata": {},
   "source": [
    "Generate a new model, now also including tail ('taill') and belly sizes. Did the R^2 value improve? Utilize an F-test to ascertain whether the addition of the new variables is statistically significant."
   ]
  },
  {
   "cell_type": "code",
   "execution_count": 41,
   "id": "ca1a1aa6-467d-4f3a-aed9-7253cf553210",
   "metadata": {
    "ExecuteTime": {
     "end_time": "2024-07-13T13:02:13.776894Z",
     "start_time": "2024-07-13T13:02:13.749676Z"
    }
   },
   "outputs": [
    {
     "name": "stdout",
     "output_type": "stream",
     "text": [
      "F statistic = 16.96, p-value= 0.0, degrees of freedom = 2.0\n"
     ]
    }
   ],
   "source": [
    "#Your code here\n",
    "model_2 = ols(formula=\"body_ratio ~ footlgth + C(sex) + taill + belly\", data=possum_data).fit()\n",
    "model_2.summary() # R^2 improved from 0.141 to 0.392\n",
    "F_statistic, p_value, df = (model_2.compare_f_test(model_1)) # the addition of the new variables is statistically significant\n",
    "print(f\"F statistic = {round(F_statistic,2)}, p-value= {round(p_value,2)}, degrees of freedom = {df}\")"
   ]
  },
  {
   "cell_type": "markdown",
   "id": "9b1ce402-ff31-4c64-bd2b-681a47cc6ce9",
   "metadata": {},
   "source": [
    "### Last section\n",
    "Perform three different statistical tests and create three diverse figures that you believe are both intriguing and useful for analysis."
   ]
  },
  {
   "cell_type": "code",
   "execution_count": 13,
   "id": "625c2ac2-3069-48dc-9ad8-8598e808b62c",
   "metadata": {
    "ExecuteTime": {
     "end_time": "2024-07-13T13:52:04.845933Z",
     "start_time": "2024-07-13T13:52:04.015854Z"
    }
   },
   "outputs": [
    {
     "ename": "NameError",
     "evalue": "name 'ols' is not defined",
     "output_type": "error",
     "traceback": [
      "\u001b[1;31m---------------------------------------------------------------------------\u001b[0m",
      "\u001b[1;31mNameError\u001b[0m                                 Traceback (most recent call last)",
      "Cell \u001b[1;32mIn[13], line 7\u001b[0m\n\u001b[0;32m      4\u001b[0m fig, axes \u001b[38;5;241m=\u001b[39m plt\u001b[38;5;241m.\u001b[39msubplots(\u001b[38;5;241m3\u001b[39m, \u001b[38;5;241m1\u001b[39m, figsize\u001b[38;5;241m=\u001b[39m(\u001b[38;5;241m7\u001b[39m, \u001b[38;5;241m10\u001b[39m))\n\u001b[0;32m      6\u001b[0m \u001b[38;5;66;03m# statistic test 1:  Test if there is a significant difference in 'totlngth' across sites - ANOVA\u001b[39;00m\n\u001b[1;32m----> 7\u001b[0m model_totlngth_sex \u001b[38;5;241m=\u001b[39m \u001b[43mols\u001b[49m(\u001b[38;5;124m'\u001b[39m\u001b[38;5;124mtotlngth ~ C(site)\u001b[39m\u001b[38;5;124m'\u001b[39m, data\u001b[38;5;241m=\u001b[39mpossum_data)\u001b[38;5;241m.\u001b[39mfit()\n\u001b[0;32m      8\u001b[0m anova_table \u001b[38;5;241m=\u001b[39m sm\u001b[38;5;241m.\u001b[39mstats\u001b[38;5;241m.\u001b[39manova_lm(model_totlngth_sex, typ\u001b[38;5;241m=\u001b[39m\u001b[38;5;241m2\u001b[39m)\n\u001b[0;32m      9\u001b[0m \u001b[38;5;28mprint\u001b[39m(\u001b[38;5;124mf\u001b[39m\u001b[38;5;124m'\u001b[39m\u001b[38;5;124mANOVA results for difference in totlngth across sites are: \u001b[39m\u001b[38;5;130;01m\\n\u001b[39;00m\u001b[38;5;132;01m{\u001b[39;00manova_table\u001b[38;5;132;01m}\u001b[39;00m\u001b[38;5;130;01m\\n\u001b[39;00m\u001b[38;5;124m'\u001b[39m)\n",
      "\u001b[1;31mNameError\u001b[0m: name 'ols' is not defined"
     ]
    },
    {
     "data": {
      "image/png": "[encoded data removed]",
      "text/plain": [
       "<Figure size 700x1000 with 3 Axes>"
      ]
     },
     "metadata": {},
     "output_type": "display_data"
    }
   ],
   "source": [
    "#Your code here\n",
    "import matplotlib.pyplot as plt\n",
    "\n",
    "fig, axes = plt.subplots(3, 1, figsize=(7, 10))\n",
    "\n",
    "# statistic test 1:  Test if there is a significant difference in 'totlngth' across sites - ANOVA\n",
    "model_totlngth_sex = ols('totlngth ~ C(site)', data=possum_data).fit()\n",
    "anova_table = sm.stats.anova_lm(model_totlngth_sex, typ=2)\n",
    "print(f'ANOVA results for difference in totlngth across sites are: \\n{anova_table}\\n')\n",
    "# plot stats 1: distribution of body ratio across different sites using boxplot\n",
    "sns.boxplot(data=possum_data, x='site', y='totlngth', ax=axes[0]);\n",
    "axes[0].set_title('Boxplot of total length across sites')\n",
    "\n",
    "# statistic test 2: Test if there is a significant linear relationship between 'belly' and 'chest' - linear regression\n",
    "model_belly_chest = ols('belly ~ chest', data=possum_data).fit()\n",
    "print(f'Linear regression results for belly vs chest are: \\n{model_belly_chest.summary()}\\n')\n",
    "# plot stats 2: linear regression of belly vs chest\n",
    "sns.regplot(data=possum_data, x='chest', y='belly', ax=axes[1]);\n",
    "axes[1].set_title('Linear Regression of belly vs chest')\n",
    "\n",
    "# statistic test 3: Test if there is a significant difference in 'age' across both sexes - t-test\n",
    "male_age = possum_data[possum_data['sex'] == 'm']['age']\n",
    "female_age = possum_data[possum_data['sex'] == 'f']['age']\n",
    "t_test_res = scipy.stats.ttest_ind(male_age, female_age)\n",
    "print(f'T test result for difference in age across both sexes is: \\n{t_test_res}\\n')\n",
    "# plot stats 3: histogram of age for both sexes\n",
    "# histogram for male\n",
    "sns.histplot(male_age, color='blue', label='Male', kde=True, ax=axes[2])\n",
    "# histogram for females\n",
    "sns.histplot(female_age, color='pink', label='Female', kde=True, ax=axes[2])\n",
    "# Set the title for the subplot\n",
    "axes[2].set_title('Histogram of Age for Males and Females')\n",
    "# Display the legend\n",
    "axes[2].legend()\n",
    "\n",
    "# Display all of the plots\n",
    "plt.tight_layout()\n",
    "plt.show()"
   ]
  }
 ],
 "metadata": {
  "kernelspec": {
   "display_name": "Python 3 (ipykernel)",
   "language": "python",
   "name": "python3"
  },
  "language_info": {
   "codemirror_mode": {
    "name": "ipython",
    "version": 3
   },
   "file_extension": ".py",
   "mimetype": "text/x-python",
   "name": "python",
   "nbconvert_exporter": "python",
   "pygments_lexer": "ipython3",
   "version": "3.10.11"
  }
 },
 "nbformat": 4,
 "nbformat_minor": 5
}

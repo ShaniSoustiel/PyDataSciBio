{
 "cells": [
  {
   "cell_type": "markdown",
   "id": "5701bc0d-8188-41ad-8d4c-f9d36e270d42",
   "metadata": {},
   "source": [
    "## HW1 - Numpy and Matplotlib\n",
    "\n",
    "#### Names and id's:\n",
    "\n",
    "Student 1: Shani Shalev, 316315720\n",
    "\n",
    "Student 2: Yosef Ben Yehuda, "
   ]
  },
  {
   "cell_type": "markdown",
   "id": "b6869724-0065-4d7c-b852-bfddff9dd9f3",
   "metadata": {},
   "source": [
    "### Warm up\n",
    "\n",
    "Import the numpy package under the name np and the matplotlib package under the name plt."
   ]
  },
  {
   "cell_type": "code",
   "execution_count": 12,
   "id": "7315e8bd-4239-4296-8c2b-a53af736b30e",
   "metadata": {
    "ExecuteTime": {
     "end_time": "2024-06-15T11:30:00.483413Z",
     "start_time": "2024-06-15T11:30:00.460704Z"
    }
   },
   "outputs": [],
   "source": [
    "\n",
    "import numpy as np\n",
    "import matplotlib.pyplot as plt"
   ]
  },
  {
   "cell_type": "markdown",
   "id": "6ca24f44-dbc9-4b1b-b619-dd287e41c07e",
   "metadata": {},
   "source": [
    "Create a 8x4 matrix with values ranging from 0 to 31"
   ]
  },
  {
   "cell_type": "code",
   "execution_count": 7,
   "id": "0aa8a4e3-8d56-423f-9ee6-340b6a8a4504",
   "metadata": {
    "ExecuteTime": {
     "end_time": "2024-06-15T09:16:28.880436Z",
     "start_time": "2024-06-15T09:16:28.876799Z"
    }
   },
   "outputs": [
    {
     "name": "stdout",
     "output_type": "stream",
     "text": [
      "[[ 0  1  2  3]\n",
      " [ 4  5  6  7]\n",
      " [ 8  9 10 11]\n",
      " [12 13 14 15]\n",
      " [16 17 18 19]\n",
      " [20 21 22 23]\n",
      " [24 25 26 27]\n",
      " [28 29 30 31]]\n"
     ]
    }
   ],
   "source": [
    "\n",
    "matrix_8_4 = np.arange(32).reshape(8, 4)\n",
    "print(matrix_8_4)"
   ]
  },
  {
   "cell_type": "markdown",
   "id": "b1488c26-7b31-40bc-b83b-eeaf3efd3f9f",
   "metadata": {},
   "source": [
    "Calculate the mean value per column of the matrix you obtained ."
   ]
  },
  {
   "cell_type": "code",
   "execution_count": 8,
   "id": "c2e32492-41ec-4454-b9ba-0c0fab6ede16",
   "metadata": {
    "ExecuteTime": {
     "end_time": "2024-06-15T09:16:34.440094Z",
     "start_time": "2024-06-15T09:16:34.436686Z"
    }
   },
   "outputs": [
    {
     "name": "stdout",
     "output_type": "stream",
     "text": [
      "[14. 15. 16. 17.]\n"
     ]
    }
   ],
   "source": [
    "\n",
    "mean_axis_0 = matrix_8_4.mean(axis=0)\n",
    "print(mean_axis_0)"
   ]
  },
  {
   "cell_type": "markdown",
   "id": "4cc03923-7a02-4e10-ad10-ebf201aca9ba",
   "metadata": {},
   "source": [
    "Create a 3D NumPy array of uniformaly-distributed values between 10 and 20 and print the element at index (2, 0, 3)."
   ]
  },
  {
   "cell_type": "code",
   "execution_count": 3,
   "id": "621f8f68-9f0b-4767-9a4f-0b3cd3af32f5",
   "metadata": {
    "ExecuteTime": {
     "end_time": "2024-06-15T09:46:37.331028Z",
     "start_time": "2024-06-15T09:46:37.324070Z"
    }
   },
   "outputs": [],
   "source": [
    "import numpy as np\n",
    "matrix_3D = np.random.uniform(10, 20, size=(3, 2, 4))\n",
    "print(matrix_3D[2,0,3])\n",
    "\n",
    "print(np.random.uniform(10, 20, size=(3, 2, 4))[2,0,3])"
   ]
  },
  {
   "cell_type": "markdown",
   "id": "6564666a-570e-425a-acbe-6a3b4ca29c9f",
   "metadata": {},
   "source": [
    "Create a 1D array containing values larger than 15 in the previous array. Hint: use fancy indexing and boolean arrays. "
   ]
  },
  {
   "cell_type": "code",
   "execution_count": 16,
   "id": "85dfd680-d669-4e54-964a-517619a49829",
   "metadata": {
    "ExecuteTime": {
     "end_time": "2024-06-15T11:38:53.204965Z",
     "start_time": "2024-06-15T11:38:53.199724Z"
    }
   },
   "outputs": [
    {
     "data": {
      "text/plain": [
       "array([16.94821546, 18.4293491 , 16.69498113, 19.07634241, 17.24135309,\n",
       "       19.70143273, 19.14946793, 17.76393014, 15.93495526, 18.01826047,\n",
       "       19.09796333, 18.88511434, 18.107145  ])"
      ]
     },
     "execution_count": 16,
     "metadata": {},
     "output_type": "execute_result"
    }
   ],
   "source": [
    "\n",
    "matrix_3D[matrix_3D > 15]"
   ]
  },
  {
   "cell_type": "markdown",
   "id": "f4cde1ce-d473-4144-8936-81d04dc017ab",
   "metadata": {},
   "source": [
    "Perform element-wise division of arr1 and arr2:"
   ]
  },
  {
   "cell_type": "code",
   "execution_count": 18,
   "id": "83a51c37-0020-450f-b8f5-ab9cda7de8f7",
   "metadata": {
    "ExecuteTime": {
     "end_time": "2024-06-15T11:42:42.078343Z",
     "start_time": "2024-06-15T11:42:42.070231Z"
    }
   },
   "outputs": [],
   "source": [
    "arr1 = np.random.rand(2, 3, 4)\n",
    "arr2 = np.arange(1, 25).reshape(2, 3, 4)"
   ]
  },
  {
   "cell_type": "code",
   "execution_count": 20,
   "id": "be215cd5-b3b3-4afe-92d5-49b9bb075061",
   "metadata": {
    "ExecuteTime": {
     "end_time": "2024-06-15T11:43:58.381696Z",
     "start_time": "2024-06-15T11:43:58.376285Z"
    }
   },
   "outputs": [
    {
     "data": {
      "text/plain": [
       "array([[[0.66812403, 0.13164733, 0.21066955, 0.18894208],\n",
       "        [0.06849123, 0.09502827, 0.09328343, 0.00171322],\n",
       "        [0.0805413 , 0.08754527, 0.00367429, 0.04906151]],\n",
       "\n",
       "       [[0.06096766, 0.0215046 , 0.02985377, 0.00394973],\n",
       "        [0.00377132, 0.018871  , 0.01870285, 0.04070372],\n",
       "        [0.00234939, 0.03418918, 0.04171051, 0.02714195]]])"
      ]
     },
     "execution_count": 20,
     "metadata": {},
     "output_type": "execute_result"
    }
   ],
   "source": [
    "\n",
    "arr1/arr2"
   ]
  },
  {
   "cell_type": "markdown",
   "id": "dbaa19ce-7a85-40e9-9638-9dc192b152c9",
   "metadata": {},
   "source": [
    "Generate 1000 random numbers from a Gaussian distribution with mean 0 and standard deviation 1 using NumPy. Plot the histogram of these numbers with 30 bins using Matplotlib."
   ]
  },
  {
   "cell_type": "code",
   "execution_count": 21,
   "id": "fbd4551c-dfa5-448c-8925-3487af66dcef",
   "metadata": {
    "ExecuteTime": {
     "end_time": "2024-06-15T11:47:42.196845Z",
     "start_time": "2024-06-15T11:47:41.820587Z"
    }
   },
   "outputs": [
    {
     "data": {
      "text/plain": [
       "(array([ 2.,  3., 11., 11., 11., 19., 26., 40., 44., 52., 64., 80., 69.,\n",
       "        85., 75., 78., 79., 47., 60., 37., 27., 26., 18., 13.,  8.,  7.,\n",
       "         2.,  3.,  2.,  1.]),\n",
       " array([-2.81446241, -2.61416703, -2.41387165, -2.21357627, -2.01328089,\n",
       "        -1.8129855 , -1.61269012, -1.41239474, -1.21209936, -1.01180398,\n",
       "        -0.81150859, -0.61121321, -0.41091783, -0.21062245, -0.01032706,\n",
       "         0.18996832,  0.3902637 ,  0.59055908,  0.79085446,  0.99114985,\n",
       "         1.19144523,  1.39174061,  1.59203599,  1.79233137,  1.99262676,\n",
       "         2.19292214,  2.39321752,  2.5935129 ,  2.79380829,  2.99410367,\n",
       "         3.19439905]),\n",
       " <BarContainer object of 30 artists>)"
      ]
     },
     "execution_count": 21,
     "metadata": {},
     "output_type": "execute_result"
    },
    {
     "data": {
      "image/png": "[encoded data removed]",
      "text/plain": [
       "<Figure size 640x480 with 1 Axes>"
      ]
     },
     "metadata": {},
     "output_type": "display_data"
    }
   ],
   "source": [
    "\n",
    "gaussian_dis = np.random.normal(0, 1, size=(1000))\n",
    "plt.hist(gaussian_dis, bins=30)"
   ]
  },
  {
   "cell_type": "markdown",
   "id": "a160e049-e4a8-4747-a7cd-2d86f2c1d8c0",
   "metadata": {},
   "source": [
    "Create four plots arranged in a 2x2 grid, each representing a different mathematical function, using plt.subplots. Plot the following functions within the range [0, 10] (use `np.linspace` to generate the grid):\n",
    "1. $y = x^2$\n",
    "2. $y = log(x)$\n",
    "3. $y = e^x$\n",
    "4. $y = sin(x)$"
   ]
  },
  {
   "cell_type": "code",
   "execution_count": 54,
   "id": "fc6de84d-3117-42e5-8392-48cfe6873824",
   "metadata": {
    "ExecuteTime": {
     "end_time": "2024-06-15T12:10:09.673363Z",
     "start_time": "2024-06-15T12:10:08.711118Z"
    }
   },
   "outputs": [
    {
     "data": {
      "image/png": "[encoded data removed]",
      "text/plain": [
       "<Figure size 640x480 with 4 Axes>"
      ]
     },
     "metadata": {},
     "output_type": "display_data"
    }
   ],
   "source": [
    "\n",
    "grid = np.linspace(0.01,10,100)\n",
    "fig, axs = plt.subplots(2, 2)\n",
    "\n",
    "axs[0, 0].plot(grid, grid**2, label='y = x^2', color='g')\n",
    "axs[0, 0].set_title('y = x^2')\n",
    "axs[0, 1].plot(grid, np.log(grid), label='y = log(x)', color='r')\n",
    "axs[0, 1].set_title('y = log(x)')\n",
    "axs[1, 0].plot(grid, np.exp(grid), label='y = e^x', color='b')\n",
    "axs[1, 0].set_title('y = e^x')\n",
    "axs[1, 1].plot(grid, np.sin(grid), label='y = sin(x)', color='y')\n",
    "axs[1, 1].set_title('y = sin(x)')\n",
    "\n",
    "plt.tight_layout()"
   ]
  },
  {
   "cell_type": "markdown",
   "id": "d0b090f5-5af5-4025-bdd9-5f10b1681424",
   "metadata": {},
   "source": [
    "### Bioinformatics challenge: the WAG protein subtitution matrix"
   ]
  },
  {
   "cell_type": "markdown",
   "id": "31efed8d-4df2-4720-8b97-42191f6cf845",
   "metadata": {},
   "source": [
    "The WAG substitution matrix combines two key elements: exchangeability parameters and amino acid frequencies. These come from a dataset of 3905 globular protein amino acid sequences.\n",
    "\n",
    "Amino acid frequencies tell us how often each amino acid appears in the sequences. Exchangeability parameters show how amino acids replace each other over time. Each row in the exchangeability parameter matrix represents the substitution rates between one amino acid and all others.\n",
    "\n",
    "These values are crucial for understanding how proteins evolve and are used in tasks like aligning sequences and studying evolutionary relationships.\n",
    "\n",
    "The order of amino acids in the exchangeability parameter matrix matches their order in the amino acid frequencies list: Ala, Arg, Asn, Asp, Cys, Gln, Glu, Gly, His, Ile, Leu, Lys, Met, Phe, Pro, Ser, Thr, Trp, Tyr, and Val.\n",
    "\n",
    "the **rate matrix Q** is based on both the exchangability parameters and amino acid frequencies, and reflects the instantaneous rate of substitution between amino acids in a continuous-time Markov process.\n",
    "\n",
    "In this exercise, we will generate the rate matrix Q based on using these exchangability parameters and frequencies.\n",
    "###\n",
    "\n",
    "The amino acid frequencies vector is given by:"
   ]
  },
  {
   "cell_type": "code",
   "execution_count": 82,
   "id": "4581a374-7fde-4b92-a602-8e0446e89841",
   "metadata": {
    "ExecuteTime": {
     "end_time": "2024-06-15T13:14:05.617715Z",
     "start_time": "2024-06-15T13:14:05.614153Z"
    }
   },
   "outputs": [],
   "source": [
    "p = np.array([0.0866279, 0.043972, 0.0390894, 0.0570451, 0.0193078, 0.0367281, 0.0580589, 0.0832518, 0.0244313, 0.048466, 0.086209, 0.0620286, 0.0195027, 0.0384319, 0.0457631, 0.0695179, 0.0610127, 0.0143859, 0.0352742, 0.0708956])\n"
   ]
  },
  {
   "cell_type": "markdown",
   "id": "621ea36c-f11f-44ec-8317-dd3522603dc5",
   "metadata": {},
   "source": [
    "The exchangeability parameters are provided as a 20x20 lower triangular matrix in the file WAG.csv, with zeros in the diagonal. \n",
    "Import this file into a NumPy array named *M*. Utilize the np.loadtxt function and specify the encoding as 'utf-8-sig'. "
   ]
  },
  {
   "cell_type": "code",
   "execution_count": 9,
   "id": "9458f411-5213-474c-acb2-1a3700901eaa",
   "metadata": {
    "ExecuteTime": {
     "end_time": "2024-06-15T13:01:58.288697Z",
     "start_time": "2024-06-15T13:01:58.281558Z"
    }
   },
   "outputs": [
    {
     "data": {
      "text/plain": [
       "array([[0.  , 0.  , 0.  , 0.  , 0.  , 0.  , 0.  , 0.  , 0.  , 0.  , 0.  ,\n",
       "        0.  , 0.  , 0.  , 0.  , 0.  , 0.  , 0.  , 0.  , 0.  ],\n",
       "       [0.55, 0.  , 0.  , 0.  , 0.  , 0.  , 0.  , 0.  , 0.  , 0.  , 0.  ,\n",
       "        0.  , 0.  , 0.  , 0.  , 0.  , 0.  , 0.  , 0.  , 0.  ],\n",
       "       [0.51, 0.64, 0.  , 0.  , 0.  , 0.  , 0.  , 0.  , 0.  , 0.  , 0.  ,\n",
       "        0.  , 0.  , 0.  , 0.  , 0.  , 0.  , 0.  , 0.  , 0.  ],\n",
       "       [0.74, 0.15, 5.43, 0.  , 0.  , 0.  , 0.  , 0.  , 0.  , 0.  , 0.  ,\n",
       "        0.  , 0.  , 0.  , 0.  , 0.  , 0.  , 0.  , 0.  , 0.  ],\n",
       "       [1.03, 0.53, 0.27, 0.03, 0.  , 0.  , 0.  , 0.  , 0.  , 0.  , 0.  ,\n",
       "        0.  , 0.  , 0.  , 0.  , 0.  , 0.  , 0.  , 0.  , 0.  ],\n",
       "       [0.91, 3.04, 1.54, 0.62, 0.1 , 0.  , 0.  , 0.  , 0.  , 0.  , 0.  ,\n",
       "        0.  , 0.  , 0.  , 0.  , 0.  , 0.  , 0.  , 0.  , 0.  ],\n",
       "       [1.58, 0.44, 0.95, 6.17, 0.02, 5.47, 0.  , 0.  , 0.  , 0.  , 0.  ,\n",
       "        0.  , 0.  , 0.  , 0.  , 0.  , 0.  , 0.  , 0.  , 0.  ],\n",
       "       [1.42, 0.58, 1.13, 0.87, 0.31, 0.33, 0.57, 0.  , 0.  , 0.  , 0.  ,\n",
       "        0.  , 0.  , 0.  , 0.  , 0.  , 0.  , 0.  , 0.  , 0.  ],\n",
       "       [0.32, 2.14, 3.96, 0.93, 0.25, 4.29, 0.57, 0.25, 0.  , 0.  , 0.  ,\n",
       "        0.  , 0.  , 0.  , 0.  , 0.  , 0.  , 0.  , 0.  , 0.  ],\n",
       "       [0.19, 0.19, 0.55, 0.04, 0.17, 0.11, 0.13, 0.03, 0.14, 0.  , 0.  ,\n",
       "        0.  , 0.  , 0.  , 0.  , 0.  , 0.  , 0.  , 0.  , 0.  ],\n",
       "       [0.4 , 0.5 , 0.13, 0.08, 0.38, 0.87, 0.15, 0.06, 0.5 , 3.17, 0.  ,\n",
       "        0.  , 0.  , 0.  , 0.  , 0.  , 0.  , 0.  , 0.  , 0.  ],\n",
       "       [0.91, 5.35, 3.01, 0.48, 0.07, 3.89, 2.58, 0.37, 0.89, 0.32, 0.26,\n",
       "        0.  , 0.  , 0.  , 0.  , 0.  , 0.  , 0.  , 0.  , 0.  ],\n",
       "       [0.89, 0.68, 0.2 , 0.1 , 0.39, 1.55, 0.32, 0.17, 0.4 , 4.26, 4.85,\n",
       "        0.93, 0.  , 0.  , 0.  , 0.  , 0.  , 0.  , 0.  , 0.  ],\n",
       "       [0.21, 0.1 , 0.1 , 0.05, 0.4 , 0.1 , 0.08, 0.05, 0.68, 1.06, 2.12,\n",
       "        0.09, 1.19, 0.  , 0.  , 0.  , 0.  , 0.  , 0.  , 0.  ],\n",
       "       [1.44, 0.68, 0.2 , 0.42, 0.11, 0.93, 0.68, 0.24, 0.7 , 0.1 , 0.42,\n",
       "        0.56, 0.17, 0.16, 0.  , 0.  , 0.  , 0.  , 0.  , 0.  ],\n",
       "       [3.37, 1.22, 3.97, 1.07, 1.41, 1.03, 0.7 , 1.34, 0.74, 0.32, 0.34,\n",
       "        0.97, 0.49, 0.55, 1.61, 0.  , 0.  , 0.  , 0.  , 0.  ],\n",
       "       [2.12, 0.55, 2.03, 0.37, 0.51, 0.86, 0.82, 0.23, 0.47, 1.46, 0.33,\n",
       "        1.39, 1.52, 0.17, 0.8 , 4.38, 0.  , 0.  , 0.  , 0.  ],\n",
       "       [0.11, 1.16, 0.07, 0.13, 0.72, 0.22, 0.16, 0.34, 0.26, 0.21, 0.67,\n",
       "        0.14, 0.52, 1.53, 0.14, 0.52, 0.11, 0.  , 0.  , 0.  ],\n",
       "       [0.24, 0.38, 1.09, 0.33, 0.54, 0.23, 0.2 , 0.1 , 3.87, 0.42, 0.4 ,\n",
       "        0.13, 0.43, 6.45, 0.22, 0.79, 0.29, 2.49, 0.  , 0.  ],\n",
       "       [2.01, 0.25, 0.2 , 0.15, 1.  , 0.3 , 0.59, 0.19, 0.12, 7.82, 1.8 ,\n",
       "        0.31, 2.06, 0.65, 0.31, 0.23, 1.39, 0.37, 0.31, 0.  ]])"
      ]
     },
     "execution_count": 9,
     "metadata": {},
     "output_type": "execute_result"
    }
   ],
   "source": [
    "\n",
    "M = np.loadtxt('../data/WAG.csv', delimiter=',', encoding='utf-8-sig')\n",
    "M\n",
    "# print(M) no need for this print statement to view result"
   ]
  },
  {
   "cell_type": "markdown",
   "id": "e88867e3-ec08-41a8-a0b6-c16620b756a7",
   "metadata": {},
   "source": [
    "Transform the lower diagonal matrix to a symmetrical matrix by replacing the upper triangular part, currently filled with zeros, with the symmetrical complement of the lower-dimensional matrix."
   ]
  },
  {
   "cell_type": "code",
   "execution_count": 10,
   "id": "58fa9173-3e49-4f4f-9026-497bc6476330",
   "metadata": {
    "ExecuteTime": {
     "end_time": "2024-06-15T13:02:11.753034Z",
     "start_time": "2024-06-15T13:02:11.747512Z"
    }
   },
   "outputs": [
    {
     "data": {
      "text/plain": [
       "array([[0.  , 0.55, 0.51, 0.74, 1.03, 0.91, 1.58, 1.42, 0.32, 0.19, 0.4 ,\n",
       "        0.91, 0.89, 0.21, 1.44, 3.37, 2.12, 0.11, 0.24, 2.01],\n",
       "       [0.55, 0.  , 0.64, 0.15, 0.53, 3.04, 0.44, 0.58, 2.14, 0.19, 0.5 ,\n",
       "        5.35, 0.68, 0.1 , 0.68, 1.22, 0.55, 1.16, 0.38, 0.25],\n",
       "       [0.51, 0.64, 0.  , 5.43, 0.27, 1.54, 0.95, 1.13, 3.96, 0.55, 0.13,\n",
       "        3.01, 0.2 , 0.1 , 0.2 , 3.97, 2.03, 0.07, 1.09, 0.2 ],\n",
       "       [0.74, 0.15, 5.43, 0.  , 0.03, 0.62, 6.17, 0.87, 0.93, 0.04, 0.08,\n",
       "        0.48, 0.1 , 0.05, 0.42, 1.07, 0.37, 0.13, 0.33, 0.15],\n",
       "       [1.03, 0.53, 0.27, 0.03, 0.  , 0.1 , 0.02, 0.31, 0.25, 0.17, 0.38,\n",
       "        0.07, 0.39, 0.4 , 0.11, 1.41, 0.51, 0.72, 0.54, 1.  ],\n",
       "       [0.91, 3.04, 1.54, 0.62, 0.1 , 0.  , 5.47, 0.33, 4.29, 0.11, 0.87,\n",
       "        3.89, 1.55, 0.1 , 0.93, 1.03, 0.86, 0.22, 0.23, 0.3 ],\n",
       "       [1.58, 0.44, 0.95, 6.17, 0.02, 5.47, 0.  , 0.57, 0.57, 0.13, 0.15,\n",
       "        2.58, 0.32, 0.08, 0.68, 0.7 , 0.82, 0.16, 0.2 , 0.59],\n",
       "       [1.42, 0.58, 1.13, 0.87, 0.31, 0.33, 0.57, 0.  , 0.25, 0.03, 0.06,\n",
       "        0.37, 0.17, 0.05, 0.24, 1.34, 0.23, 0.34, 0.1 , 0.19],\n",
       "       [0.32, 2.14, 3.96, 0.93, 0.25, 4.29, 0.57, 0.25, 0.  , 0.14, 0.5 ,\n",
       "        0.89, 0.4 , 0.68, 0.7 , 0.74, 0.47, 0.26, 3.87, 0.12],\n",
       "       [0.19, 0.19, 0.55, 0.04, 0.17, 0.11, 0.13, 0.03, 0.14, 0.  , 3.17,\n",
       "        0.32, 4.26, 1.06, 0.1 , 0.32, 1.46, 0.21, 0.42, 7.82],\n",
       "       [0.4 , 0.5 , 0.13, 0.08, 0.38, 0.87, 0.15, 0.06, 0.5 , 3.17, 0.  ,\n",
       "        0.26, 4.85, 2.12, 0.42, 0.34, 0.33, 0.67, 0.4 , 1.8 ],\n",
       "       [0.91, 5.35, 3.01, 0.48, 0.07, 3.89, 2.58, 0.37, 0.89, 0.32, 0.26,\n",
       "        0.  , 0.93, 0.09, 0.56, 0.97, 1.39, 0.14, 0.13, 0.31],\n",
       "       [0.89, 0.68, 0.2 , 0.1 , 0.39, 1.55, 0.32, 0.17, 0.4 , 4.26, 4.85,\n",
       "        0.93, 0.  , 1.19, 0.17, 0.49, 1.52, 0.52, 0.43, 2.06],\n",
       "       [0.21, 0.1 , 0.1 , 0.05, 0.4 , 0.1 , 0.08, 0.05, 0.68, 1.06, 2.12,\n",
       "        0.09, 1.19, 0.  , 0.16, 0.55, 0.17, 1.53, 6.45, 0.65],\n",
       "       [1.44, 0.68, 0.2 , 0.42, 0.11, 0.93, 0.68, 0.24, 0.7 , 0.1 , 0.42,\n",
       "        0.56, 0.17, 0.16, 0.  , 1.61, 0.8 , 0.14, 0.22, 0.31],\n",
       "       [3.37, 1.22, 3.97, 1.07, 1.41, 1.03, 0.7 , 1.34, 0.74, 0.32, 0.34,\n",
       "        0.97, 0.49, 0.55, 1.61, 0.  , 4.38, 0.52, 0.79, 0.23],\n",
       "       [2.12, 0.55, 2.03, 0.37, 0.51, 0.86, 0.82, 0.23, 0.47, 1.46, 0.33,\n",
       "        1.39, 1.52, 0.17, 0.8 , 4.38, 0.  , 0.11, 0.29, 1.39],\n",
       "       [0.11, 1.16, 0.07, 0.13, 0.72, 0.22, 0.16, 0.34, 0.26, 0.21, 0.67,\n",
       "        0.14, 0.52, 1.53, 0.14, 0.52, 0.11, 0.  , 2.49, 0.37],\n",
       "       [0.24, 0.38, 1.09, 0.33, 0.54, 0.23, 0.2 , 0.1 , 3.87, 0.42, 0.4 ,\n",
       "        0.13, 0.43, 6.45, 0.22, 0.79, 0.29, 2.49, 0.  , 0.31],\n",
       "       [2.01, 0.25, 0.2 , 0.15, 1.  , 0.3 , 0.59, 0.19, 0.12, 7.82, 1.8 ,\n",
       "        0.31, 2.06, 0.65, 0.31, 0.23, 1.39, 0.37, 0.31, 0.  ]])"
      ]
     },
     "execution_count": 10,
     "metadata": {},
     "output_type": "execute_result"
    }
   ],
   "source": [
    "\n",
    "\n",
    "M_sym = M + M.T - np.diag(M.diagonal())\n",
    "# very nice solution. You could also use np.maximum(M, M.T) to get the same result\n",
    "alternative_matrix = np.maximum(M, M.T)\n",
    "alternative_matrix\n"
   ]
  },
  {
   "cell_type": "markdown",
   "id": "0f1d6e53-2109-4436-be96-728126171da6",
   "metadata": {},
   "source": [
    "Make sure the matrix you obtained is indeed symmetrical:"
   ]
  },
  {
   "cell_type": "code",
   "execution_count": 79,
   "id": "126a6526-2e22-4ac1-9a12-2eedc64783a0",
   "metadata": {
    "ExecuteTime": {
     "end_time": "2024-06-15T13:02:33.472184Z",
     "start_time": "2024-06-15T13:02:33.468229Z"
    }
   },
   "outputs": [
    {
     "name": "stdout",
     "output_type": "stream",
     "text": [
      "The matrix is symmetrical\n"
     ]
    }
   ],
   "source": [
    "\n",
    "if (M_sym == M_sym.T).all():\n",
    "    print('The matrix is symmetrical')\n",
    "else:\n",
    "    print('The matrix is not symmetrical')"
   ]
  },
  {
   "cell_type": "markdown",
   "id": "16de449b-9ae0-4f19-b342-11e9dcbfa1bb",
   "metadata": {},
   "source": [
    "Now, you should multiply each column of this symmetric matrix in its corresponding frequency.\n",
    "To achieve this:\n",
    "1. Transform the vector of frequencies p_ii to a diagonal matrix *D* using `np.diag`.\n",
    "2. Multiply the symmetrical matrix *S* in the diagonal matrix *D* using `np.dot` and name this matric *R*.\n",
    "\n",
    "\n",
    "When you multiply a symmetric matrix 𝑆 by a diagonal matrix 𝐷 , each column of the symmetric matrix is scaled by the corresponding diagonal element of 𝐷.\n"
   ]
  },
  {
   "cell_type": "code",
   "execution_count": 83,
   "id": "0686b4ea-17fc-4ef6-8107-3088d5ec9817",
   "metadata": {
    "ExecuteTime": {
     "end_time": "2024-06-15T13:14:13.141404Z",
     "start_time": "2024-06-15T13:14:13.137411Z"
    }
   },
   "outputs": [],
   "source": [
    "\n",
    "D = np.diag(p)\n",
    "R = np.dot(D, M_sym) "
   ]
  },
  {
   "cell_type": "markdown",
   "id": "99aaa9c5-5c5f-4154-b853-5dd816e69ccc",
   "metadata": {},
   "source": [
    "Next, generate a normalized matrix named *norm_R* normalize so that the average value across the entire matrix becomes 1."
   ]
  },
  {
   "cell_type": "code",
   "execution_count": 84,
   "id": "4c7fd392-2a13-4613-8402-5966b73dfeda",
   "metadata": {
    "ExecuteTime": {
     "end_time": "2024-06-15T13:14:17.159359Z",
     "start_time": "2024-06-15T13:14:17.151654Z"
    }
   },
   "outputs": [
    {
     "data": {
      "text/plain": [
       "0.9999999999999997"
      ]
     },
     "execution_count": 84,
     "metadata": {},
     "output_type": "execute_result"
    }
   ],
   "source": [
    "\n",
    "norm_R = R / np.mean(R)\n",
    "norm_R.mean()"
   ]
  },
  {
   "cell_type": "markdown",
   "id": "54608218-15a4-4562-887a-198540005a44",
   "metadata": {},
   "source": [
    "Remember that the diagonal values of our matrix R are currently zero. "
   ]
  },
  {
   "cell_type": "code",
   "execution_count": 86,
   "id": "3f1b1d42-f3be-41d7-ad12-9e3d225240da",
   "metadata": {
    "ExecuteTime": {
     "end_time": "2024-06-15T13:29:09.555443Z",
     "start_time": "2024-06-15T13:29:09.550632Z"
    }
   },
   "outputs": [
    {
     "data": {
      "text/plain": [
       "array([0., 0., 0., 0., 0., 0., 0., 0., 0., 0., 0., 0., 0., 0., 0., 0., 0.,\n",
       "       0., 0., 0.])"
      ]
     },
     "execution_count": 86,
     "metadata": {},
     "output_type": "execute_result"
    }
   ],
   "source": [
    "\n",
    "np.diag(norm_R)"
   ]
  },
  {
   "cell_type": "markdown",
   "id": "e53a4d73-ca7d-4b59-8cae-3b12746775f8",
   "metadata": {},
   "source": [
    "Finally, ensure that the sum of each row is zero by setting the diagonal value of each row to the negative sum of the other elements in that row. Generate a new numpy array Q where the diagonal values are adjusted accordingly."
   ]
  },
  {
   "cell_type": "code",
   "execution_count": 92,
   "id": "f692a1e2-d9b9-4436-b0f9-3f96a187cceb",
   "metadata": {
    "ExecuteTime": {
     "end_time": "2024-06-15T13:38:53.111606Z",
     "start_time": "2024-06-15T13:38:53.103844Z"
    }
   },
   "outputs": [
    {
     "name": "stdout",
     "output_type": "stream",
     "text": [
      "[[-3.50210420e+01  1.01644185e+00  9.42518809e-01  1.36757631e+00\n",
      "   1.90351838e+00  1.68174925e+00  2.91996023e+00  2.62426806e+00\n",
      "   5.91384351e-01  3.51134458e-01  7.39230439e-01  1.68174925e+00\n",
      "   1.64478773e+00  3.88095980e-01  2.66122958e+00  6.22801645e+00\n",
      "   3.91792132e+00  2.03288371e-01  4.43538263e-01  3.71463295e+00]\n",
      " [ 5.15942106e-01 -1.79454045e+01  6.00368996e-01  1.40711483e-01\n",
      "   4.97180575e-01  2.85175273e+00  4.12753685e-01  5.44084403e-01\n",
      "   2.00748383e+00  1.78234546e-01  4.69038278e-01  5.01870958e+00\n",
      "   6.37892058e-01  9.38076556e-02  6.37892058e-01  1.14445340e+00\n",
      "   5.15942106e-01  1.08816881e+00  3.56469091e-01  2.34519139e-01]\n",
      " [ 4.25295947e-01  5.33704717e-01 -2.16650759e+01  4.52815096e+00\n",
      "   2.25156678e-01  1.28422698e+00  7.92217940e-01  9.42322392e-01\n",
      "   3.30229794e+00  4.58652492e-01  1.08408771e-01  2.51008000e+00\n",
      "   1.66782724e-01  8.33913621e-02  1.66782724e-01  3.31063708e+00\n",
      "   1.69284465e+00  5.83739535e-02  9.08965847e-01  1.66782724e-01]\n",
      " [ 9.00558913e-01  1.82545726e-01  6.60815527e+00 -2.21002025e+01\n",
      "   3.65091451e-02  7.54522332e-01  7.50871418e+00  1.05876521e+00\n",
      "   1.13178350e+00  4.86788602e-02  9.73577203e-02  5.84146322e-01\n",
      "   1.21697150e-01  6.08485752e-02  5.11128032e-01  1.30215951e+00\n",
      "   4.50279456e-01  1.58206295e-01  4.01600596e-01  1.82545726e-01]\n",
      " [ 4.24259992e-01  2.18308540e-01  1.11213784e-01  1.23570871e-02\n",
      "  -3.39407994e+00  4.11902905e-02  8.23805810e-03  1.27689901e-01\n",
      "   1.02975726e-01  7.00234938e-02  1.56523104e-01  2.88332033e-02\n",
      "   1.60642133e-01  1.64761162e-01  4.53093195e-02  5.80783096e-01\n",
      "   2.10070481e-01  2.96570092e-01  2.22427569e-01  4.11902905e-01]\n",
      " [ 7.13020338e-01  2.38195805e+00  1.20664980e+00  4.85794077e-01\n",
      "   7.83538833e-02 -2.06775898e+01  4.28595742e+00  2.58567815e-01\n",
      "   3.36138159e+00  8.61892716e-02  6.81678785e-01  3.04796606e+00\n",
      "   1.21448519e+00  7.83538833e-02  7.28691115e-01  8.07044998e-01\n",
      "   6.73843396e-01  1.72378543e-01  1.80213932e-01  2.35061650e-01]\n",
      " [ 1.95698706e+00  5.44983738e-01  1.17666943e+00  7.64215832e+00\n",
      "   2.47719881e-02  6.77513874e+00 -2.74721348e+01  7.06001660e-01\n",
      "   7.06001660e-01  1.61017922e-01  1.85789911e-01  3.19558646e+00\n",
      "   3.96351809e-01  9.90879523e-02  8.42247594e-01  8.67019583e-01\n",
      "   1.01565151e+00  1.98175905e-01  2.47719881e-01  7.30773648e-01]\n",
      " [ 2.52199395e+00  1.03011020e+00  2.00693885e+00  1.54516531e+00\n",
      "   5.50576143e-01  5.86097185e-01  1.01234968e+00 -1.52385268e+01\n",
      "   4.44013019e-01  5.32815623e-02  1.06563125e-01  6.57139268e-01\n",
      "   3.01928853e-01  8.88026038e-02  4.26252498e-01  2.37990978e+00\n",
      "   4.08491977e-01  6.03857706e-01  1.77605208e-01  3.37449894e-01]\n",
      " [ 1.66785626e-01  1.11537887e+00  2.06397212e+00  4.84720724e-01\n",
      "   1.30301270e-01  2.23596979e+00  2.97086896e-01  1.30301270e-01\n",
      "  -1.11954851e+01  7.29687112e-02  2.60602540e-01  4.63872521e-01\n",
      "   2.08482032e-01  3.54419454e-01  3.64843556e-01  3.85691759e-01\n",
      "   2.44966388e-01  1.35513321e-01  2.01706366e+00  6.25446096e-02]\n",
      " [ 1.96450366e-01  1.96450366e-01  5.68672112e-01  4.13579718e-02\n",
      "   1.75771380e-01  1.13734422e-01  1.34413408e-01  3.10184788e-02\n",
      "   1.44752901e-01 -2.13924109e+01  3.27761926e+00  3.30863774e-01\n",
      "   4.40462399e+00  1.09598625e+00  1.03394929e-01  3.30863774e-01\n",
      "   1.50956597e+00  2.17129352e-01  4.34258704e-01  8.08548348e+00]\n",
      " [ 7.35655798e-01  9.19569747e-01  2.39088134e-01  1.47131160e-01\n",
      "   6.98873008e-01  1.60005136e+00  2.75870924e-01  1.10348370e-01\n",
      "   9.19569747e-01  5.83007220e+00 -3.20562014e+01  4.78176269e-01\n",
      "   8.91982655e+00  3.89897573e+00  7.72438588e-01  6.25307428e-01\n",
      "   6.06916033e-01  1.23222346e+00  7.35655798e-01  3.31045109e+00]\n",
      " [ 1.20419116e+00  7.07958539e+00  3.98309384e+00  6.35177755e-01\n",
      "   9.26300892e-02  5.14758639e+00  3.41408043e+00  4.89616186e-01\n",
      "   1.17772542e+00  4.23451836e-01  3.44054617e-01 -2.99724503e+01\n",
      "   1.23065690e+00  1.19095829e-01  7.41040714e-01  1.28358838e+00\n",
      "   1.83936891e+00  1.85260178e-01  1.72027309e-01  4.10218967e-01]\n",
      " [ 3.70294115e-01  2.82921346e-01  8.32121607e-02  4.16060804e-02\n",
      "   1.62263713e-01  6.44894246e-01  1.33139457e-01  7.07303366e-02\n",
      "   1.66424321e-01  1.77241902e+00  2.01789490e+00  3.86936547e-01\n",
      "  -8.78720417e+00  4.95112356e-01  7.07303366e-02  2.03869794e-01\n",
      "   6.32412421e-01  2.16351618e-01  1.78906146e-01  8.57085255e-01]\n",
      " [ 1.72176238e-01  8.19886846e-02  8.19886846e-02  4.09943423e-02\n",
      "   3.27954739e-01  8.19886846e-02  6.55909477e-02  4.09943423e-02\n",
      "   5.57523055e-01  8.69080057e-01  1.73816011e+00  7.37898162e-02\n",
      "   9.75665347e-01 -1.29050190e+01  1.31181895e-01  4.50937765e-01\n",
      "   1.39380764e-01  1.25442687e+00  5.28827016e+00  5.32926450e-01]\n",
      " [ 1.40585326e+00  6.63875149e-01  1.95257397e-01  4.10040533e-01\n",
      "   1.07391568e-01  9.07946895e-01  6.63875149e-01  2.34308876e-01\n",
      "   6.83400889e-01  9.76286984e-02  4.10040533e-01  5.46720711e-01\n",
      "   1.65968787e-01  1.56205917e-01 -9.65547827e+00  1.57182204e+00\n",
      "   7.81029587e-01  1.36680178e-01  2.14783136e-01  3.02648965e-01]\n",
      " [ 4.99791204e+00  1.80933314e+00  5.88774801e+00  1.58687415e+00\n",
      "   2.09111453e+00  1.52755175e+00  1.03814197e+00  1.98730034e+00\n",
      "   1.09746436e+00  4.74579185e-01  5.04240384e-01  1.43856815e+00\n",
      "   7.26699377e-01  8.15682974e-01  2.38772652e+00 -3.71506518e+01\n",
      "   6.49580259e+00  7.71191175e-01  1.17161736e+00  3.41103789e-01]\n",
      " [ 2.75942229e+00  7.15887859e-01  2.64227701e+00  4.81597287e-01\n",
      "   6.63823287e-01  1.11938829e+00  1.06732372e+00  2.99371286e-01\n",
      "   6.11758716e-01  1.90035686e+00  4.29532715e-01  1.80924386e+00\n",
      "   1.97845372e+00  2.21274429e-01  1.04129143e+00  5.70107059e+00\n",
      "  -2.57719629e+01  1.43177572e-01  3.77468144e-01  1.80924386e+00]\n",
      " [ 3.37591719e-02  3.56005813e-01  2.14831094e-02  3.98972032e-02\n",
      "   2.20969125e-01  6.75183439e-02  4.91042501e-02  1.04346531e-01\n",
      "   7.97944064e-02  6.44493282e-02  2.05624047e-01  4.29662188e-02\n",
      "   1.59588813e-01  4.69559392e-01  4.29662188e-02  1.59588813e-01\n",
      "   3.37591719e-02 -3.02911843e+00  7.64184892e-01  1.13553578e-01]\n",
      " [ 1.80605295e-01  2.85958383e-01  8.20249046e-01  2.48332280e-01\n",
      "   4.06361913e-01  1.73080074e-01  1.50504412e-01  7.52522061e-02\n",
      "   2.91226038e+00  3.16059266e-01  3.01008824e-01  9.78278679e-02\n",
      "   3.23584486e-01  4.85376729e+00  1.65554853e-01  5.94492428e-01\n",
      "   2.18231398e-01  1.87377993e+00 -1.42301922e+01  2.33281839e-01]\n",
      " [ 3.04002674e+00  3.78112778e-01  3.02490222e-01  2.26867667e-01\n",
      "   1.51245111e+00  4.53735334e-01  8.92346156e-01  2.87365711e-01\n",
      "   1.81494133e-01  1.18273677e+01  2.72241200e+00  4.68859845e-01\n",
      "   3.11564929e+00  9.83093223e-01  4.68859845e-01  3.47863756e-01\n",
      "   2.10230705e+00  5.59606912e-01  4.68859845e-01 -3.03397693e+01]]\n"
     ]
    },
    {
     "data": {
      "text/plain": [
       "array([-35.02104203, -17.94540452, -21.66507587, -22.10020251,\n",
       "        -3.39407994, -20.67758981, -27.47213477, -15.23852681,\n",
       "       -11.19548511, -21.3924109 , -32.05620139, -29.9724503 ,\n",
       "        -8.78720417, -12.90501896,  -9.65547827, -37.15065181,\n",
       "       -25.77196292,  -3.02911843, -14.23019217, -30.33976931])"
      ]
     },
     "execution_count": 92,
     "metadata": {},
     "output_type": "execute_result"
    }
   ],
   "source": [
    "\n",
    "Q =  norm_R - np.diag(norm_R.sum(axis=1))\n",
    "print(Q)\n",
    "np.diag(Q)"
   ]
  },
  {
   "cell_type": "markdown",
   "id": "98c805da-f752-457d-b25c-242d419cfa07",
   "metadata": {},
   "source": [
    "Write a function named `plot_rate_matrix` function to visualize the subtitution rates of a specific amino acid with other amino acids in a protein sequence, based on the rate matrix *Q* you obtained in the previous section. Given an index of an amino acid (say 0, which corresponds to Alanine), the function should generate a *bar plot* showing the subtitution rates from that given amino acid index to each other amino acid. Use the amino acid labels below:\n"
   ]
  },
  {
   "cell_type": "code",
   "execution_count": 93,
   "id": "5f23de7b-e299-4488-9283-5dc89ff6af4a",
   "metadata": {
    "ExecuteTime": {
     "end_time": "2024-06-15T13:50:41.041529Z",
     "start_time": "2024-06-15T13:50:41.005418Z"
    }
   },
   "outputs": [],
   "source": [
    "# Amino acid labels\n",
    "amino_acids = ['Ala', 'Arg', 'Asn', 'Asp', 'Cys', 'Gln', 'Glu', 'Gly', \n",
    "               'His', 'Ile', 'Leu', 'Lys', 'Met', 'Phe', 'Pro', 'Ser', \n",
    "               'Thr', 'Trp', 'Tyr', 'Val']"
   ]
  },
  {
   "cell_type": "code",
   "execution_count": 109,
   "id": "c3405e5b01d2aa0a",
   "metadata": {
    "ExecuteTime": {
     "end_time": "2024-06-15T14:03:38.023286Z",
     "start_time": "2024-06-15T14:03:38.020213Z"
    }
   },
   "outputs": [],
   "source": [
    "\n",
    "def plot_rate_matrix(index):\n",
    "    plt.bar(amino_acids, Q[index])\n",
    "    plt.title(f'Exchangeability Rates of {amino_acids[index]} with Other Amino Acids')\n",
    "    plt.xlabel('Amino acid')\n",
    "    plt.ylabel('Exchangeability rate')\n",
    "    plt.xticks(rotation=45)\n",
    "    plt.show()"
   ]
  },
  {
   "cell_type": "code",
   "execution_count": 110,
   "id": "946213ac-6090-4b6d-853b-7e5d33426efe",
   "metadata": {
    "ExecuteTime": {
     "end_time": "2024-06-15T14:03:39.107987Z",
     "start_time": "2024-06-15T14:03:38.744265Z"
    }
   },
   "outputs": [
    {
     "data": {
      "image/png": "[encoded data removed]",
      "text/plain": [
       "<Figure size 640x480 with 1 Axes>"
      ]
     },
     "metadata": {},
     "output_type": "display_data"
    },
    {
     "data": {
      "image/png": "[encoded data removed]",
      "text/plain": [
       "<Figure size 640x480 with 1 Axes>"
      ]
     },
     "metadata": {},
     "output_type": "display_data"
    }
   ],
   "source": [
    "# Plotting exchangeability rates for a specific amino acid (e.g., Alanine - index 0)\n",
    "plot_rate_matrix(0)\n",
    "\n",
    "# Plotting exchangeability rates for another amino acid (e.g., Leucine - index 10)\n",
    "plot_rate_matrix(10)"
   ]
  },
  {
   "cell_type": "code",
   "execution_count": null,
   "id": "b7607b9858b6e440",
   "metadata": {},
   "outputs": [],
   "source": []
  }
 ],
 "metadata": {
  "kernelspec": {
   "display_name": "Python 3 (ipykernel)",
   "language": "python",
   "name": "python3"
  },
  "language_info": {
   "codemirror_mode": {
    "name": "ipython",
    "version": 3
   },
   "file_extension": ".py",
   "mimetype": "text/x-python",
   "name": "python",
   "nbconvert_exporter": "python",
   "pygments_lexer": "ipython3",
   "version": "3.12.0"
  }
 },
 "nbformat": 4,
 "nbformat_minor": 5
}

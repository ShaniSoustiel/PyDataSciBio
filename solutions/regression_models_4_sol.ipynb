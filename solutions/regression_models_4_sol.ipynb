{
 "cells": [
  {
   "cell_type": "markdown",
   "id": "31ca26e9-f23a-40e3-8b97-a09590a0b69f",
   "metadata": {},
   "source": [
    "### Ex0"
   ]
  },
  {
   "cell_type": "code",
   "execution_count": null,
   "id": "66157b30-5009-4d4b-85e0-fd763e308d46",
   "metadata": {},
   "outputs": [],
   "source": [
    "sns.countplot(possum_data, x=\"site\");"
   ]
  },
  {
   "cell_type": "markdown",
   "id": "193093f3-f891-44e4-8c90-0eac5dda9dce",
   "metadata": {},
   "source": [
    "### Ex1"
   ]
  },
  {
   "cell_type": "code",
   "execution_count": null,
   "id": "b3bf6fe6-4724-4657-a5ef-1a9b72867ae4",
   "metadata": {},
   "outputs": [],
   "source": [
    "# Define the thresholds\n",
    "thresholds = [1e-15, 1e-10, 1e-8, 1e-3, 1e-2, 1, 5, 10, 20, 30, 35, 40, 45, 50, 55, 100,200,400, 600]\n",
    "\n",
    "# Initialize lists to store performance metrics\n",
    "r2_scores = []\n",
    "\n",
    "# Loop over each alpha value\n",
    "for alpha in thresholds:\n",
    "    # Initialize and train Ridge model\n",
    "    ridge = Ridge(alpha=alpha)\n",
    "    ridge.fit(x_train_st, y_train)\n",
    "    r2_scores.append(ridge.score(x_test_st,y_test))\n",
    "\n",
    "# Plot the performance\n",
    "plt.figure(figsize=(10, 6))\n",
    "plt.plot(thresholds, r2_scores, marker='o')\n",
    "plt.title('Ridge model performance for each alpha')\n",
    "plt.xlabel('Alpha')\n",
    "plt.ylabel('R-squared')\n",
    "plt.show()"
   ]
  },
  {
   "cell_type": "markdown",
   "id": "1176a10a-1fba-45d1-8392-5cc1a772ae28",
   "metadata": {},
   "source": [
    "### Ex2"
   ]
  },
  {
   "cell_type": "code",
   "execution_count": null,
   "id": "7e22fe2d-e43b-47f2-bd54-a501aa2ce13a",
   "metadata": {},
   "outputs": [],
   "source": [
    "from sklearn.linear_model import Lasso\n",
    "from sklearn.model_selection import GridSearchCV\n",
    "LassoRegression = Lasso()\n",
    "hyperParameters = {'alpha':[1e-15,1e-10,1e-8,1e-3,1e-2,1,5,10,20,30,35,40,45,50,55,100]}\n",
    "LassoRegressor = GridSearchCV(LassoRegression, hyperParameters, cv=3)\n",
    "LassoRegressor.fit(x_train_st,y_train)\n",
    "print(\"Best value for lambda : \",LassoRegressor.best_params_)\n",
    "print(\"Best score for cost function: \", LassoRegressor.best_score_)\n",
    "print(\"Score on test set: \", LassoRegressor.score(x_test_st, y_test) )"
   ]
  }
 ],
 "metadata": {
  "kernelspec": {
   "display_name": "Python 3 (ipykernel)",
   "language": "python",
   "name": "python3"
  },
  "language_info": {
   "codemirror_mode": {
    "name": "ipython",
    "version": 3
   },
   "file_extension": ".py",
   "mimetype": "text/x-python",
   "name": "python",
   "nbconvert_exporter": "python",
   "pygments_lexer": "ipython3",
   "version": "3.11.7"
  }
 },
 "nbformat": 4,
 "nbformat_minor": 5
}

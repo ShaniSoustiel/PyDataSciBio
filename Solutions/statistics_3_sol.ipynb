{
 "cells": [
  {
   "cell_type": "markdown",
   "id": "3afe11db",
   "metadata": {},
   "source": [
    "**Ex1** "
   ]
  },
  {
   "cell_type": "code",
   "execution_count": null,
   "id": "9e1dfde8",
   "metadata": {},
   "outputs": [],
   "source": [
    "from scipy.stats import kruskal\n",
    "setosa_samples = iris_data.loc[iris_data.species=='setosa']['sepal_width']\n",
    "versicolor_samples =iris_data.loc[iris_data.species=='versicolor']['sepal_width']\n",
    "virginica_samples = iris_data.loc[iris_data.species=='virginica']['sepal_width']\n",
    "\n",
    "kruskal_ststistic,kruskal_p_val = kruskal(setosa_samples,versicolor_samples,virginica_samples)\n",
    "print(f\"kruskal F-statistic: {kruskal_ststistic}, p-value {kruskal_p_val}\")"
   ]
  },
  {
   "cell_type": "markdown",
   "id": "7bed3bb3",
   "metadata": {},
   "source": [
    "**Ex2**\n",
    "\n",
    "to assess the homoscedasticity assumption (2) (and additional assumptions I did not mention), let's generate a **\"predicted value vs. residuals plot\".**\n",
    "A predicted value vs residuals plot is a graphical tool used in linear regression analysis to identify potential patterns or trends in the model's errors (residuals). Ideally, we should obtain a completely random pattern. A strong non-random pattern indicates a violation of the model.\n",
    "\n",
    "* On the x-axis, you plot the predicted values (also known as fitted values) from your linear regression model (use model.predict)\n",
    "* On the y-axis, you plot the residuals (the differences between the observed values of the dependent variable) (use model.resid)."
   ]
  },
  {
   "cell_type": "code",
   "execution_count": null,
   "id": "447a079a",
   "metadata": {},
   "outputs": [],
   "source": [
    "predictions = model_0.predict(iris_data[[\"sepal_width\"]]) \n",
    "residuals = model_0.resid\n",
    "sns.scatterplot(x=predictions,\n",
    "                    y=residuals,\n",
    "                    )\n",
    "plt.show()"
   ]
  },
  {
   "cell_type": "markdown",
   "id": "44c14c11",
   "metadata": {},
   "source": [
    "**Ex3**"
   ]
  },
  {
   "cell_type": "code",
   "execution_count": null,
   "id": "ab71345f",
   "metadata": {},
   "outputs": [],
   "source": [
    "for i in range(50):\n",
    "    iris_data[f\"test_{i}\"] = np.random.rand(len(iris_data.index))\n",
    "all_columns = \"+\".join(iris_data.drop(columns=['sepal_length']).columns)\n",
    "model_3 = ols(formula=f\"sepal_length ~ {all_columns}\", data=iris_data).fit()\n",
    "print(f'R^2 = {np.round(model_3.rsquared,2)}')"
   ]
  },
  {
   "cell_type": "code",
   "execution_count": null,
   "id": "5e3db322",
   "metadata": {},
   "outputs": [],
   "source": []
  }
 ],
 "metadata": {
  "kernelspec": {
   "display_name": "Python 3 (ipykernel)",
   "language": "python",
   "name": "python3"
  },
  "language_info": {
   "codemirror_mode": {
    "name": "ipython",
    "version": 3
   },
   "file_extension": ".py",
   "mimetype": "text/x-python",
   "name": "python",
   "nbconvert_exporter": "python",
   "pygments_lexer": "ipython3",
   "version": "3.8.5"
  }
 },
 "nbformat": 4,
 "nbformat_minor": 5
}

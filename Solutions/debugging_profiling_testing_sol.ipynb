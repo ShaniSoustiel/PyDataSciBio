{
 "cells": [
  {
   "cell_type": "code",
   "execution_count": 8,
   "metadata": {},
   "outputs": [
    {
     "name": "stdout",
     "output_type": "stream",
     "text": [
      "\u001b[1m======================================= test session starts ========================================\u001b[0m\n",
      "platform linux -- Python 3.11.8, pytest-8.1.1, pluggy-1.4.0\n",
      "rootdir: /home/elyawy/Development/projects/PyDataSciBio/Solutions\n",
      "plugins: anyio-4.3.0\n",
      "collected 1 item\n",
      "\n",
      "t_ad8cff4346574d4fabde93724c94174a.py \u001b[32m.\u001b[0m\u001b[32m                                                      [100%]\u001b[0m\n",
      "\n",
      "\u001b[32m======================================== \u001b[32m\u001b[1m1 passed\u001b[0m\u001b[32m in 0.01s\u001b[0m\u001b[32m =========================================\u001b[0m\n"
     ]
    },
    {
     "data": {
      "text/plain": [
       "<ExitCode.OK: 0>"
      ]
     },
     "execution_count": 8,
     "metadata": {},
     "output_type": "execute_result"
    }
   ],
   "source": [
    "import ipytest\n",
    "ipytest.autoconfig()\n",
    "\n",
    "def pythagoras(a,b):\n",
    "    c = a**2 + b**2\n",
    "    return c**0.5\n",
    "\n",
    "def test_pythagoras():\n",
    "    assert pythagoras(3,4) == 5\n",
    "    assert pythagoras(1,1) == 2**0.5\n",
    "\n",
    "\n",
    "\n",
    "ipytest.run('-v')"
   ]
  },
  {
   "cell_type": "code",
   "execution_count": 9,
   "metadata": {},
   "outputs": [],
   "source": [
    "weights = {'D': 115.02694, 'E': 129.04259, 'R': 156.10111, 'S': 87.03203, \n",
    "           'M': 131.04049, 'W': 186.07931, 'P': 97.05276, 'C': 103.00919, \n",
    "           'V': 99.06841, 'I': 113.08406, 'G': 57.02146, 'A': 71.03711, \n",
    "           'L': 113.08406, 'N': 114.04293, 'T': 101.04768, 'K': 128.09496, \n",
    "           'Q': 128.05858, 'H': 137.05891, 'F': 147.06841, 'Y': 163.06333}\n",
    "\n",
    "def protein_mass(sequence):\n",
    "    mass = 0\n",
    "    for aa in sequence:\n",
    "        if aa not in weights:\n",
    "            raise ValueError(\"Input sequence contains an illegal aa: {}\".format(aa))\n",
    "        mass += weights[aa]\n",
    "    return mass\n",
    "\n",
    "seq = 'SKADYEK'\n",
    "assert round(protein_mass(seq), 3) == 821.392"
   ]
  }
 ],
 "metadata": {
  "kernelspec": {
   "display_name": "jupyter",
   "language": "python",
   "name": "python3"
  },
  "language_info": {
   "codemirror_mode": {
    "name": "ipython",
    "version": 3
   },
   "file_extension": ".py",
   "mimetype": "text/x-python",
   "name": "python",
   "nbconvert_exporter": "python",
   "pygments_lexer": "ipython3",
   "version": "3.11.8"
  }
 },
 "nbformat": 4,
 "nbformat_minor": 2
}
